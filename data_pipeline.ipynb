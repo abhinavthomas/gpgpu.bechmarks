{
 "cells": [
  {
   "cell_type": "code",
   "execution_count": 1,
   "id": "7c873794-0786-4bb7-b38f-8fbd95fb94d1",
   "metadata": {},
   "outputs": [],
   "source": [
    "import pandas as pd\n",
    "from itertools import combinations"
   ]
  },
  {
   "cell_type": "code",
   "execution_count": 2,
   "id": "72910991-bd63-49ed-a32c-ee10dddbdd68",
   "metadata": {},
   "outputs": [],
   "source": [
    "ds = pd.read_parquet('ir_ds.pq')"
   ]
  },
  {
   "cell_type": "code",
   "execution_count": 3,
   "id": "606b8e13-c592-45ef-8154-23f4c14fed63",
   "metadata": {},
   "outputs": [],
   "source": [
    "ds['ir'] = ds.apply(lambda x: tuple(x['ir']),axis=1)"
   ]
  },
  {
   "cell_type": "code",
   "execution_count": 4,
   "id": "162feb46-369d-4f80-9eaf-5805a8b00256",
   "metadata": {},
   "outputs": [],
   "source": [
    "ds['opt']=ds.apply(lambda x: tuple(x['opt']),axis=1)"
   ]
  },
  {
   "cell_type": "code",
   "execution_count": 5,
   "id": "25ac1413-54a9-4864-8d5a-16eb524f3a34",
   "metadata": {},
   "outputs": [
    {
     "data": {
      "text/plain": [
       "array(['-I.'], dtype=object)"
      ]
     },
     "execution_count": 5,
     "metadata": {},
     "output_type": "execute_result"
    }
   ],
   "source": [
    "ds['build_options'].unique()"
   ]
  },
  {
   "cell_type": "code",
   "execution_count": 6,
   "id": "74fac23a-6764-424f-a93a-b032e7e50553",
   "metadata": {},
   "outputs": [
    {
     "data": {
      "text/plain": [
       "Index(['kernelName', 'globalSize', 'localSize', 'transferredBytes',\n",
       "       'transferTimeNs', 'kernelTimeNs', 'build_options', 'ir', 'opt',\n",
       "       'kernelname', 'hostname', 'deviceName', 'benchmarkSuite',\n",
       "       'benchmarkName', 'datasetName'],\n",
       "      dtype='object')"
      ]
     },
     "execution_count": 6,
     "metadata": {},
     "output_type": "execute_result"
    }
   ],
   "source": [
    "ds.columns"
   ]
  },
  {
   "cell_type": "code",
   "execution_count": 7,
   "id": "f539b809-f234-4b9c-9a88-22e2f3c969d0",
   "metadata": {},
   "outputs": [],
   "source": [
    "group = ds.groupby(['benchmarkName','datasetName','benchmarkSuite','opt'])"
   ]
  },
  {
   "cell_type": "code",
   "execution_count": 8,
   "id": "a9b82d55-508f-48e1-ace6-aaa16c42d579",
   "metadata": {},
   "outputs": [],
   "source": [
    "def get_mean(grp):\n",
    "    df = pd.DataFrame(columns=ds.columns)\n",
    "    for g in grp:\n",
    "        temp = g[1].iloc[0]\n",
    "        temp['transferTimeNs'] = g[1]['transferTimeNs'].mean()\n",
    "        temp['kernelTimeNs'] = g[1]['kernelTimeNs'].mean()\n",
    "#         return temp\n",
    "        df = df.append(temp,ignore_index=True)\n",
    "    return df"
   ]
  },
  {
   "cell_type": "code",
   "execution_count": 9,
   "id": "6fee1e6f-75d7-4d17-80f6-6868106a93c6",
   "metadata": {},
   "outputs": [],
   "source": [
    "df = get_mean(group)"
   ]
  },
  {
   "cell_type": "code",
   "execution_count": 10,
   "id": "152e39db-a82c-4a67-8fff-6cc9d76e6b62",
   "metadata": {},
   "outputs": [],
   "source": [
    "group = df.groupby(['benchmarkName','datasetName','benchmarkSuite'])"
   ]
  },
  {
   "cell_type": "code",
   "execution_count": 11,
   "id": "018d97a4-da7c-417d-ae50-73b5f671e53f",
   "metadata": {},
   "outputs": [],
   "source": [
    "def get_pair_data(grp):\n",
    "    df = pd.DataFrame(columns=['ir1','globalSize1','localSize1','transferTimeNs1','kernelTimeNs1','ir2','globalSize2','localSize2','transferTimeNs2','kernelTimeNs2'])\n",
    "    k=0\n",
    "    for g in grp:\n",
    "        temp = g[1].loc[g[1]['opt']==()]\n",
    "        transferTimeNs = temp['transferTimeNs'].iloc[0]\n",
    "        kernelTimeNs = temp['kernelTimeNs'].iloc[0]\n",
    "        temp = g[1]\n",
    "        temp['transferTimeNs']=temp['transferTimeNs']-transferTimeNs\n",
    "        temp['kernelTimeNs']=temp['kernelTimeNs']-kernelTimeNs\n",
    "        for comb in combinations(temp.index,2):\n",
    "            first = temp.loc[comb[0]]\n",
    "            second = temp.loc[comb[1]]\n",
    "            df.loc[k]=[first['ir'],first['globalSize'],first['localSize'],first['transferTimeNs'],first['kernelTimeNs'],second['ir'],second['globalSize'],second['localSize'],second['transferTimeNs'],second['kernelTimeNs']]\n",
    "            k+=1\n",
    "    return df"
   ]
  },
  {
   "cell_type": "code",
   "execution_count": 12,
   "id": "749e153c-a73d-497d-9aa3-6c5e0d8cc9a6",
   "metadata": {},
   "outputs": [
    {
     "name": "stderr",
     "output_type": "stream",
     "text": [
      "/home/abhinav/.local/lib/python3.8/site-packages/pandas/core/dtypes/cast.py:881: VisibleDeprecationWarning: Creating an ndarray from ragged nested sequences (which is a list-or-tuple of lists-or-tuples-or ndarrays with different lengths or shapes) is deprecated. If you meant to do this, you must specify 'dtype=object' when creating the ndarray.\n",
      "  element = np.asarray(element)\n"
     ]
    },
    {
     "data": {
      "text/html": [
       "<div>\n",
       "<style scoped>\n",
       "    .dataframe tbody tr th:only-of-type {\n",
       "        vertical-align: middle;\n",
       "    }\n",
       "\n",
       "    .dataframe tbody tr th {\n",
       "        vertical-align: top;\n",
       "    }\n",
       "\n",
       "    .dataframe thead th {\n",
       "        text-align: right;\n",
       "    }\n",
       "</style>\n",
       "<table border=\"1\" class=\"dataframe\">\n",
       "  <thead>\n",
       "    <tr style=\"text-align: right;\">\n",
       "      <th></th>\n",
       "      <th>ir1</th>\n",
       "      <th>globalSize1</th>\n",
       "      <th>localSize1</th>\n",
       "      <th>transferTimeNs1</th>\n",
       "      <th>kernelTimeNs1</th>\n",
       "      <th>ir2</th>\n",
       "      <th>globalSize2</th>\n",
       "      <th>localSize2</th>\n",
       "      <th>transferTimeNs2</th>\n",
       "      <th>kernelTimeNs2</th>\n",
       "    </tr>\n",
       "  </thead>\n",
       "  <tbody>\n",
       "    <tr>\n",
       "      <th>0</th>\n",
       "      <td>(-0.567818, 0.846908, 1.716297, 1.124501, -0.8...</td>\n",
       "      <td>22115328</td>\n",
       "      <td>128</td>\n",
       "      <td>0.000000e+00</td>\n",
       "      <td>0.000000e+00</td>\n",
       "      <td>(-0.567818, 0.846908, 1.716297, 1.124501, -0.8...</td>\n",
       "      <td>22115328</td>\n",
       "      <td>128</td>\n",
       "      <td>-1.021967e+31</td>\n",
       "      <td>-1.312081e+23</td>\n",
       "    </tr>\n",
       "    <tr>\n",
       "      <th>1</th>\n",
       "      <td>(-0.567818, 0.846908, 1.716297, 1.124501, -0.8...</td>\n",
       "      <td>22115328</td>\n",
       "      <td>128</td>\n",
       "      <td>0.000000e+00</td>\n",
       "      <td>0.000000e+00</td>\n",
       "      <td>(-0.567818, 0.846908, 1.716297, 1.124501, -0.8...</td>\n",
       "      <td>22115328</td>\n",
       "      <td>128</td>\n",
       "      <td>-1.021967e+31</td>\n",
       "      <td>-1.312081e+23</td>\n",
       "    </tr>\n",
       "    <tr>\n",
       "      <th>2</th>\n",
       "      <td>(-0.567818, 0.846908, 1.716297, 1.124501, -0.8...</td>\n",
       "      <td>22115328</td>\n",
       "      <td>128</td>\n",
       "      <td>-1.021967e+31</td>\n",
       "      <td>-1.312081e+23</td>\n",
       "      <td>(-0.567818, 0.846908, 1.716297, 1.124501, -0.8...</td>\n",
       "      <td>22115328</td>\n",
       "      <td>128</td>\n",
       "      <td>-1.021967e+31</td>\n",
       "      <td>-1.312081e+23</td>\n",
       "    </tr>\n",
       "    <tr>\n",
       "      <th>3</th>\n",
       "      <td>(-0.567818, 0.846908, 1.716297, 1.124501, -0.8...</td>\n",
       "      <td>28530688</td>\n",
       "      <td>8</td>\n",
       "      <td>0.000000e+00</td>\n",
       "      <td>0.000000e+00</td>\n",
       "      <td>(-0.567818, 0.846908, 1.716297, 1.124501, -0.8...</td>\n",
       "      <td>28530688</td>\n",
       "      <td>8</td>\n",
       "      <td>-1.316338e+31</td>\n",
       "      <td>-1.275880e+27</td>\n",
       "    </tr>\n",
       "    <tr>\n",
       "      <th>4</th>\n",
       "      <td>(-0.567818, 0.846908, 1.716297, 1.124501, -0.8...</td>\n",
       "      <td>29387776</td>\n",
       "      <td>128</td>\n",
       "      <td>0.000000e+00</td>\n",
       "      <td>0.000000e+00</td>\n",
       "      <td>(-0.567818, 0.846908, 1.716297, 1.124501, -0.8...</td>\n",
       "      <td>29387776</td>\n",
       "      <td>128</td>\n",
       "      <td>-1.355856e+31</td>\n",
       "      <td>-1.735442e+23</td>\n",
       "    </tr>\n",
       "    <tr>\n",
       "      <th>...</th>\n",
       "      <td>...</td>\n",
       "      <td>...</td>\n",
       "      <td>...</td>\n",
       "      <td>...</td>\n",
       "      <td>...</td>\n",
       "      <td>...</td>\n",
       "      <td>...</td>\n",
       "      <td>...</td>\n",
       "      <td>...</td>\n",
       "      <td>...</td>\n",
       "    </tr>\n",
       "    <tr>\n",
       "      <th>1859</th>\n",
       "      <td>(0.236931, 0.861191, 1.331397, 0.950226, -0.70...</td>\n",
       "      <td>24112128</td>\n",
       "      <td>512</td>\n",
       "      <td>0.000000e+00</td>\n",
       "      <td>0.000000e+00</td>\n",
       "      <td>(0.236931, 0.861191, 1.331397, 0.950226, -0.70...</td>\n",
       "      <td>24112128</td>\n",
       "      <td>512</td>\n",
       "      <td>-2.224589e+15</td>\n",
       "      <td>-1.716158e+11</td>\n",
       "    </tr>\n",
       "    <tr>\n",
       "      <th>1860</th>\n",
       "      <td>(0.236931, 0.861191, 1.331397, 0.950226, -0.70...</td>\n",
       "      <td>27850752</td>\n",
       "      <td>512</td>\n",
       "      <td>0.000000e+00</td>\n",
       "      <td>0.000000e+00</td>\n",
       "      <td>(0.236931, 0.861191, 1.331397, 0.950226, -0.70...</td>\n",
       "      <td>27850752</td>\n",
       "      <td>512</td>\n",
       "      <td>-2.569504e+15</td>\n",
       "      <td>-1.961598e+11</td>\n",
       "    </tr>\n",
       "    <tr>\n",
       "      <th>1861</th>\n",
       "      <td>(-0.348847, 0.915227, 1.825628, 1.322826, -0.6...</td>\n",
       "      <td>17167360</td>\n",
       "      <td>32</td>\n",
       "      <td>0.000000e+00</td>\n",
       "      <td>0.000000e+00</td>\n",
       "      <td>(-0.348847, 0.915227, 1.825628, 1.322826, -0.6...</td>\n",
       "      <td>17167360</td>\n",
       "      <td>32</td>\n",
       "      <td>-1.584264e+15</td>\n",
       "      <td>-4.092637e+11</td>\n",
       "    </tr>\n",
       "    <tr>\n",
       "      <th>1862</th>\n",
       "      <td>(-0.348847, 0.915227, 1.825628, 1.322826, -0.6...</td>\n",
       "      <td>17976320</td>\n",
       "      <td>256</td>\n",
       "      <td>0.000000e+00</td>\n",
       "      <td>0.000000e+00</td>\n",
       "      <td>(-0.348847, 0.915227, 1.825628, 1.322826, -0.6...</td>\n",
       "      <td>17976320</td>\n",
       "      <td>256</td>\n",
       "      <td>-1.658848e+15</td>\n",
       "      <td>-2.865757e+11</td>\n",
       "    </tr>\n",
       "    <tr>\n",
       "      <th>1863</th>\n",
       "      <td>(-0.348847, 0.915227, 1.825628, 1.322826, -0.6...</td>\n",
       "      <td>21671936</td>\n",
       "      <td>32</td>\n",
       "      <td>0.000000e+00</td>\n",
       "      <td>0.000000e+00</td>\n",
       "      <td>(-0.348847, 0.915227, 1.825628, 1.322826, -0.6...</td>\n",
       "      <td>21671936</td>\n",
       "      <td>32</td>\n",
       "      <td>-1.997613e+15</td>\n",
       "      <td>-5.988960e+12</td>\n",
       "    </tr>\n",
       "  </tbody>\n",
       "</table>\n",
       "<p>1864 rows × 10 columns</p>\n",
       "</div>"
      ],
      "text/plain": [
       "                                                    ir1 globalSize1  \\\n",
       "0     (-0.567818, 0.846908, 1.716297, 1.124501, -0.8...    22115328   \n",
       "1     (-0.567818, 0.846908, 1.716297, 1.124501, -0.8...    22115328   \n",
       "2     (-0.567818, 0.846908, 1.716297, 1.124501, -0.8...    22115328   \n",
       "3     (-0.567818, 0.846908, 1.716297, 1.124501, -0.8...    28530688   \n",
       "4     (-0.567818, 0.846908, 1.716297, 1.124501, -0.8...    29387776   \n",
       "...                                                 ...         ...   \n",
       "1859  (0.236931, 0.861191, 1.331397, 0.950226, -0.70...    24112128   \n",
       "1860  (0.236931, 0.861191, 1.331397, 0.950226, -0.70...    27850752   \n",
       "1861  (-0.348847, 0.915227, 1.825628, 1.322826, -0.6...    17167360   \n",
       "1862  (-0.348847, 0.915227, 1.825628, 1.322826, -0.6...    17976320   \n",
       "1863  (-0.348847, 0.915227, 1.825628, 1.322826, -0.6...    21671936   \n",
       "\n",
       "     localSize1  transferTimeNs1  kernelTimeNs1  \\\n",
       "0           128     0.000000e+00   0.000000e+00   \n",
       "1           128     0.000000e+00   0.000000e+00   \n",
       "2           128    -1.021967e+31  -1.312081e+23   \n",
       "3             8     0.000000e+00   0.000000e+00   \n",
       "4           128     0.000000e+00   0.000000e+00   \n",
       "...         ...              ...            ...   \n",
       "1859        512     0.000000e+00   0.000000e+00   \n",
       "1860        512     0.000000e+00   0.000000e+00   \n",
       "1861         32     0.000000e+00   0.000000e+00   \n",
       "1862        256     0.000000e+00   0.000000e+00   \n",
       "1863         32     0.000000e+00   0.000000e+00   \n",
       "\n",
       "                                                    ir2 globalSize2  \\\n",
       "0     (-0.567818, 0.846908, 1.716297, 1.124501, -0.8...    22115328   \n",
       "1     (-0.567818, 0.846908, 1.716297, 1.124501, -0.8...    22115328   \n",
       "2     (-0.567818, 0.846908, 1.716297, 1.124501, -0.8...    22115328   \n",
       "3     (-0.567818, 0.846908, 1.716297, 1.124501, -0.8...    28530688   \n",
       "4     (-0.567818, 0.846908, 1.716297, 1.124501, -0.8...    29387776   \n",
       "...                                                 ...         ...   \n",
       "1859  (0.236931, 0.861191, 1.331397, 0.950226, -0.70...    24112128   \n",
       "1860  (0.236931, 0.861191, 1.331397, 0.950226, -0.70...    27850752   \n",
       "1861  (-0.348847, 0.915227, 1.825628, 1.322826, -0.6...    17167360   \n",
       "1862  (-0.348847, 0.915227, 1.825628, 1.322826, -0.6...    17976320   \n",
       "1863  (-0.348847, 0.915227, 1.825628, 1.322826, -0.6...    21671936   \n",
       "\n",
       "     localSize2  transferTimeNs2  kernelTimeNs2  \n",
       "0           128    -1.021967e+31  -1.312081e+23  \n",
       "1           128    -1.021967e+31  -1.312081e+23  \n",
       "2           128    -1.021967e+31  -1.312081e+23  \n",
       "3             8    -1.316338e+31  -1.275880e+27  \n",
       "4           128    -1.355856e+31  -1.735442e+23  \n",
       "...         ...              ...            ...  \n",
       "1859        512    -2.224589e+15  -1.716158e+11  \n",
       "1860        512    -2.569504e+15  -1.961598e+11  \n",
       "1861         32    -1.584264e+15  -4.092637e+11  \n",
       "1862        256    -1.658848e+15  -2.865757e+11  \n",
       "1863         32    -1.997613e+15  -5.988960e+12  \n",
       "\n",
       "[1864 rows x 10 columns]"
      ]
     },
     "execution_count": 12,
     "metadata": {},
     "output_type": "execute_result"
    }
   ],
   "source": [
    "d = get_pair_data(group)\n",
    "d"
   ]
  },
  {
   "cell_type": "code",
   "execution_count": 6,
   "id": "2f1341f5-8d25-4e94-987d-d228c5503a47",
   "metadata": {},
   "outputs": [],
   "source": [
    "import gpgpu_pb2"
   ]
  },
  {
   "cell_type": "code",
   "execution_count": 7,
   "id": "ad6c9667-b481-4efb-ae4c-70df08130959",
   "metadata": {},
   "outputs": [],
   "source": [
    "b = gpgpu_pb2.BenchmarkRun()"
   ]
  },
  {
   "cell_type": "code",
   "execution_count": null,
   "id": "4b3561d1-a8d1-4cd7-8813-7664eb1711ff",
   "metadata": {},
   "outputs": [],
   "source": []
  }
 ],
 "metadata": {
  "kernelspec": {
   "display_name": "Python 3 (ipykernel)",
   "language": "python",
   "name": "python3"
  },
  "language_info": {
   "codemirror_mode": {
    "name": "ipython",
    "version": 3
   },
   "file_extension": ".py",
   "mimetype": "text/x-python",
   "name": "python",
   "nbconvert_exporter": "python",
   "pygments_lexer": "ipython3",
   "version": "3.8.10"
  }
 },
 "nbformat": 4,
 "nbformat_minor": 5
}
