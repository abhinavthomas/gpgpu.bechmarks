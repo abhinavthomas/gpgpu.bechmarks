{
 "cells": [
  {
   "cell_type": "code",
   "execution_count": 1,
   "source": [
    "import pandas as pd\r\n",
    "from itertools import combinations\r\n",
    "import pathlib"
   ],
   "outputs": [],
   "metadata": {}
  },
  {
   "cell_type": "code",
   "execution_count": 2,
   "source": [
    "DATA_PATH = pathlib.Path('data/')\r\n",
    "paths = set(DATA_PATH.rglob('ir_ds*.pq'))\r\n",
    "ds = None\r\n",
    "for path in paths:\r\n",
    "    ds = ds.append(pd.read_parquet(path),ignore_index=True) if ds is not None else pd.read_parquet(path)"
   ],
   "outputs": [],
   "metadata": {}
  },
  {
   "cell_type": "code",
   "execution_count": 3,
   "source": [
    "ds.shape"
   ],
   "outputs": [
    {
     "output_type": "execute_result",
     "data": {
      "text/plain": [
       "(328570, 15)"
      ]
     },
     "metadata": {},
     "execution_count": 3
    }
   ],
   "metadata": {}
  },
  {
   "cell_type": "code",
   "execution_count": 4,
   "source": [
    "ds['ir'] = ds.apply(lambda x: tuple(x['ir']),axis=1)\r\n",
    "ds['opt']=ds.apply(lambda x: tuple(x['opt']),axis=1)\r\n",
    "ds['build_options']=ds.apply(lambda x: tuple(x['build_options']),axis=1)"
   ],
   "outputs": [],
   "metadata": {}
  },
  {
   "cell_type": "code",
   "execution_count": 5,
   "source": [
    "ds.columns"
   ],
   "outputs": [
    {
     "output_type": "execute_result",
     "data": {
      "text/plain": [
       "Index(['kernelName', 'globalSize', 'localSize', 'transferredBytes',\n",
       "       'transferTimeNs', 'kernelTimeNs', 'build_options', 'ir', 'opt',\n",
       "       'kernelname', 'hostname', 'deviceName', 'benchmarkSuite',\n",
       "       'benchmarkName', 'datasetName'],\n",
       "      dtype='object')"
      ]
     },
     "metadata": {},
     "execution_count": 5
    }
   ],
   "metadata": {}
  },
  {
   "cell_type": "code",
   "execution_count": 6,
   "source": [
    "ds.kernelTimeNs = pd.to_numeric(ds.kernelTimeNs)\r\n",
    "ds.globalSize = pd.to_numeric(ds.globalSize)\r\n",
    "ds.localSize = pd.to_numeric(ds.localSize)\r\n",
    "ds.transferredBytes = pd.to_numeric(ds.transferredBytes)\r\n",
    "ds.transferTimeNs = pd.to_numeric(ds.transferTimeNs)"
   ],
   "outputs": [],
   "metadata": {}
  },
  {
   "cell_type": "code",
   "execution_count": 7,
   "source": [
    "ds[['transferTimeNs','kernelTimeNs']].describe()"
   ],
   "outputs": [
    {
     "output_type": "execute_result",
     "data": {
      "text/html": [
       "<div>\n",
       "<style scoped>\n",
       "    .dataframe tbody tr th:only-of-type {\n",
       "        vertical-align: middle;\n",
       "    }\n",
       "\n",
       "    .dataframe tbody tr th {\n",
       "        vertical-align: top;\n",
       "    }\n",
       "\n",
       "    .dataframe thead th {\n",
       "        text-align: right;\n",
       "    }\n",
       "</style>\n",
       "<table border=\"1\" class=\"dataframe\">\n",
       "  <thead>\n",
       "    <tr style=\"text-align: right;\">\n",
       "      <th></th>\n",
       "      <th>transferTimeNs</th>\n",
       "      <th>kernelTimeNs</th>\n",
       "    </tr>\n",
       "  </thead>\n",
       "  <tbody>\n",
       "    <tr>\n",
       "      <th>count</th>\n",
       "      <td>3.285700e+05</td>\n",
       "      <td>3.285700e+05</td>\n",
       "    </tr>\n",
       "    <tr>\n",
       "      <th>mean</th>\n",
       "      <td>4.356972e+07</td>\n",
       "      <td>4.514279e+06</td>\n",
       "    </tr>\n",
       "    <tr>\n",
       "      <th>std</th>\n",
       "      <td>1.001725e+07</td>\n",
       "      <td>4.299505e+07</td>\n",
       "    </tr>\n",
       "    <tr>\n",
       "      <th>min</th>\n",
       "      <td>2.857920e+05</td>\n",
       "      <td>4.601600e+04</td>\n",
       "    </tr>\n",
       "    <tr>\n",
       "      <th>25%</th>\n",
       "      <td>3.585482e+07</td>\n",
       "      <td>6.845760e+05</td>\n",
       "    </tr>\n",
       "    <tr>\n",
       "      <th>50%</th>\n",
       "      <td>4.310570e+07</td>\n",
       "      <td>1.451936e+06</td>\n",
       "    </tr>\n",
       "    <tr>\n",
       "      <th>75%</th>\n",
       "      <td>5.127329e+07</td>\n",
       "      <td>3.149000e+06</td>\n",
       "    </tr>\n",
       "    <tr>\n",
       "      <th>max</th>\n",
       "      <td>6.384512e+07</td>\n",
       "      <td>1.559924e+09</td>\n",
       "    </tr>\n",
       "  </tbody>\n",
       "</table>\n",
       "</div>"
      ],
      "text/plain": [
       "       transferTimeNs  kernelTimeNs\n",
       "count    3.285700e+05  3.285700e+05\n",
       "mean     4.356972e+07  4.514279e+06\n",
       "std      1.001725e+07  4.299505e+07\n",
       "min      2.857920e+05  4.601600e+04\n",
       "25%      3.585482e+07  6.845760e+05\n",
       "50%      4.310570e+07  1.451936e+06\n",
       "75%      5.127329e+07  3.149000e+06\n",
       "max      6.384512e+07  1.559924e+09"
      ]
     },
     "metadata": {},
     "execution_count": 7
    }
   ],
   "metadata": {}
  },
  {
   "cell_type": "code",
   "execution_count": 8,
   "source": [
    "group = ds.groupby(['benchmarkName','datasetName','benchmarkSuite','opt'])"
   ],
   "outputs": [],
   "metadata": {}
  },
  {
   "cell_type": "code",
   "execution_count": 9,
   "source": [
    "def get_std(grp):\r\n",
    "    df = pd.DataFrame(columns=ds.columns)\r\n",
    "    for g in grp:\r\n",
    "        temp = g[1].iloc[0]\r\n",
    "        temp.kernelTimeNs = g[1]['kernelTimeNs'].std()\r\n",
    "        temp.transferTimeNs = g[1]['transferTimeNs'].std()\r\n",
    "        temp.transferredBytes = g[1]['transferredBytes'].std()\r\n",
    "#         return temp\r\n",
    "        df = df.append(temp,ignore_index=True)\r\n",
    "    return df"
   ],
   "outputs": [],
   "metadata": {}
  },
  {
   "cell_type": "code",
   "execution_count": 10,
   "source": [
    "err_df = get_std(group)"
   ],
   "outputs": [
    {
     "output_type": "stream",
     "name": "stderr",
     "text": [
      "C:\\ProgramData\\Anaconda3\\lib\\site-packages\\pandas\\core\\generic.py:5494: SettingWithCopyWarning: \n",
      "A value is trying to be set on a copy of a slice from a DataFrame\n",
      "\n",
      "See the caveats in the documentation: https://pandas.pydata.org/pandas-docs/stable/user_guide/indexing.html#returning-a-view-versus-a-copy\n",
      "  self[name] = value\n"
     ]
    }
   ],
   "metadata": {}
  },
  {
   "cell_type": "code",
   "execution_count": 11,
   "source": [
    "err_df.describe()[['transferTimeNs','kernelTimeNs']]"
   ],
   "outputs": [
    {
     "output_type": "execute_result",
     "data": {
      "text/html": [
       "<div>\n",
       "<style scoped>\n",
       "    .dataframe tbody tr th:only-of-type {\n",
       "        vertical-align: middle;\n",
       "    }\n",
       "\n",
       "    .dataframe tbody tr th {\n",
       "        vertical-align: top;\n",
       "    }\n",
       "\n",
       "    .dataframe thead th {\n",
       "        text-align: right;\n",
       "    }\n",
       "</style>\n",
       "<table border=\"1\" class=\"dataframe\">\n",
       "  <thead>\n",
       "    <tr style=\"text-align: right;\">\n",
       "      <th></th>\n",
       "      <th>transferTimeNs</th>\n",
       "      <th>kernelTimeNs</th>\n",
       "    </tr>\n",
       "  </thead>\n",
       "  <tbody>\n",
       "    <tr>\n",
       "      <th>count</th>\n",
       "      <td>3.065100e+04</td>\n",
       "      <td>3.065100e+04</td>\n",
       "    </tr>\n",
       "    <tr>\n",
       "      <th>mean</th>\n",
       "      <td>9.117854e+04</td>\n",
       "      <td>3.141039e+04</td>\n",
       "    </tr>\n",
       "    <tr>\n",
       "      <th>std</th>\n",
       "      <td>6.253668e+04</td>\n",
       "      <td>2.943924e+05</td>\n",
       "    </tr>\n",
       "    <tr>\n",
       "      <th>min</th>\n",
       "      <td>2.036468e+02</td>\n",
       "      <td>0.000000e+00</td>\n",
       "    </tr>\n",
       "    <tr>\n",
       "      <th>25%</th>\n",
       "      <td>4.263936e+04</td>\n",
       "      <td>1.779827e+03</td>\n",
       "    </tr>\n",
       "    <tr>\n",
       "      <th>50%</th>\n",
       "      <td>9.544838e+04</td>\n",
       "      <td>8.068201e+03</td>\n",
       "    </tr>\n",
       "    <tr>\n",
       "      <th>75%</th>\n",
       "      <td>1.299483e+05</td>\n",
       "      <td>1.472449e+04</td>\n",
       "    </tr>\n",
       "    <tr>\n",
       "      <th>max</th>\n",
       "      <td>1.152517e+06</td>\n",
       "      <td>1.390468e+07</td>\n",
       "    </tr>\n",
       "  </tbody>\n",
       "</table>\n",
       "</div>"
      ],
      "text/plain": [
       "       transferTimeNs  kernelTimeNs\n",
       "count    3.065100e+04  3.065100e+04\n",
       "mean     9.117854e+04  3.141039e+04\n",
       "std      6.253668e+04  2.943924e+05\n",
       "min      2.036468e+02  0.000000e+00\n",
       "25%      4.263936e+04  1.779827e+03\n",
       "50%      9.544838e+04  8.068201e+03\n",
       "75%      1.299483e+05  1.472449e+04\n",
       "max      1.152517e+06  1.390468e+07"
      ]
     },
     "metadata": {},
     "execution_count": 11
    }
   ],
   "metadata": {}
  },
  {
   "cell_type": "code",
   "execution_count": 12,
   "source": [
    "def get_mean(grp):\r\n",
    "    df = pd.DataFrame(columns=ds.columns)\r\n",
    "    for g in grp:\r\n",
    "        temp = g[1].iloc[0]\r\n",
    "        temp.kernelTimeNs = g[1]['kernelTimeNs'].mean()\r\n",
    "        temp.transferTimeNs = g[1]['transferTimeNs'].mean()\r\n",
    "        temp.transferredBytes = g[1]['transferredBytes'].mean()\r\n",
    "#         return temp\r\n",
    "        df = df.append(temp,ignore_index=True)\r\n",
    "    return df"
   ],
   "outputs": [],
   "metadata": {}
  },
  {
   "cell_type": "code",
   "execution_count": 13,
   "source": [
    "df = get_mean(group)\r\n",
    "df"
   ],
   "outputs": [
    {
     "output_type": "stream",
     "name": "stderr",
     "text": [
      "C:\\ProgramData\\Anaconda3\\lib\\site-packages\\pandas\\core\\generic.py:5494: SettingWithCopyWarning: \n",
      "A value is trying to be set on a copy of a slice from a DataFrame\n",
      "\n",
      "See the caveats in the documentation: https://pandas.pydata.org/pandas-docs/stable/user_guide/indexing.html#returning-a-view-versus-a-copy\n",
      "  self[name] = value\n"
     ]
    },
    {
     "output_type": "execute_result",
     "data": {
      "text/html": [
       "<div>\n",
       "<style scoped>\n",
       "    .dataframe tbody tr th:only-of-type {\n",
       "        vertical-align: middle;\n",
       "    }\n",
       "\n",
       "    .dataframe tbody tr th {\n",
       "        vertical-align: top;\n",
       "    }\n",
       "\n",
       "    .dataframe thead th {\n",
       "        text-align: right;\n",
       "    }\n",
       "</style>\n",
       "<table border=\"1\" class=\"dataframe\">\n",
       "  <thead>\n",
       "    <tr style=\"text-align: right;\">\n",
       "      <th></th>\n",
       "      <th>kernelName</th>\n",
       "      <th>globalSize</th>\n",
       "      <th>localSize</th>\n",
       "      <th>transferredBytes</th>\n",
       "      <th>transferTimeNs</th>\n",
       "      <th>kernelTimeNs</th>\n",
       "      <th>build_options</th>\n",
       "      <th>ir</th>\n",
       "      <th>opt</th>\n",
       "      <th>kernelname</th>\n",
       "      <th>hostname</th>\n",
       "      <th>deviceName</th>\n",
       "      <th>benchmarkSuite</th>\n",
       "      <th>benchmarkName</th>\n",
       "      <th>datasetName</th>\n",
       "    </tr>\n",
       "  </thead>\n",
       "  <tbody>\n",
       "    <tr>\n",
       "      <th>0</th>\n",
       "      <td>A</td>\n",
       "      <td>22115328</td>\n",
       "      <td>128</td>\n",
       "      <td>265383936.0</td>\n",
       "      <td>4.075714e+07</td>\n",
       "      <td>5.308286e+05</td>\n",
       "      <td>(-I.,)</td>\n",
       "      <td>(-0.567818, 0.846908, 1.716297, 1.124501, -0.8...</td>\n",
       "      <td>()</td>\n",
       "      <td>A</td>\n",
       "      <td>tornado</td>\n",
       "      <td>Quadro GP100</td>\n",
       "      <td>clgen</td>\n",
       "      <td>00b2cd9176f8fd8ff41df5853ccc8ba77620d81f.21597K</td>\n",
       "      <td>default</td>\n",
       "    </tr>\n",
       "    <tr>\n",
       "      <th>1</th>\n",
       "      <td>A</td>\n",
       "      <td>22115328</td>\n",
       "      <td>128</td>\n",
       "      <td>265383936.0</td>\n",
       "      <td>4.078840e+07</td>\n",
       "      <td>5.293440e+05</td>\n",
       "      <td>(-I.,)</td>\n",
       "      <td>(-0.567818, 0.846908, 1.716297, 1.124501, -0.8...</td>\n",
       "      <td>(--attributor,)</td>\n",
       "      <td>A</td>\n",
       "      <td>tornado</td>\n",
       "      <td>Quadro GP100</td>\n",
       "      <td>clgen</td>\n",
       "      <td>00b2cd9176f8fd8ff41df5853ccc8ba77620d81f.21597K</td>\n",
       "      <td>default</td>\n",
       "    </tr>\n",
       "    <tr>\n",
       "      <th>2</th>\n",
       "      <td>A</td>\n",
       "      <td>22115328</td>\n",
       "      <td>128</td>\n",
       "      <td>265383936.0</td>\n",
       "      <td>4.077028e+07</td>\n",
       "      <td>5.363552e+05</td>\n",
       "      <td>(-I.,)</td>\n",
       "      <td>(-0.567818, 0.846908, 1.716297, 1.124501, -0.8...</td>\n",
       "      <td>(--attributor, --structurizecfg, --break-crit-...</td>\n",
       "      <td>A</td>\n",
       "      <td>tornado</td>\n",
       "      <td>Quadro GP100</td>\n",
       "      <td>clgen</td>\n",
       "      <td>00b2cd9176f8fd8ff41df5853ccc8ba77620d81f.21597K</td>\n",
       "      <td>default</td>\n",
       "    </tr>\n",
       "    <tr>\n",
       "      <th>3</th>\n",
       "      <td>A</td>\n",
       "      <td>22115328</td>\n",
       "      <td>128</td>\n",
       "      <td>265383936.0</td>\n",
       "      <td>4.064174e+07</td>\n",
       "      <td>5.342272e+05</td>\n",
       "      <td>(-I.,)</td>\n",
       "      <td>(-0.567818, 0.846908, 1.716297, 1.124501, -0.8...</td>\n",
       "      <td>(--attributor-cgscc,)</td>\n",
       "      <td>A</td>\n",
       "      <td>tornado</td>\n",
       "      <td>Quadro GP100</td>\n",
       "      <td>clgen</td>\n",
       "      <td>00b2cd9176f8fd8ff41df5853ccc8ba77620d81f.21597K</td>\n",
       "      <td>default</td>\n",
       "    </tr>\n",
       "    <tr>\n",
       "      <th>4</th>\n",
       "      <td>A</td>\n",
       "      <td>22115328</td>\n",
       "      <td>128</td>\n",
       "      <td>265383936.0</td>\n",
       "      <td>4.067339e+07</td>\n",
       "      <td>5.288160e+05</td>\n",
       "      <td>(-I.,)</td>\n",
       "      <td>(-0.567818, 0.846908, 1.716297, 1.124501, -0.8...</td>\n",
       "      <td>(--attributor-cgscc, --instnamer)</td>\n",
       "      <td>A</td>\n",
       "      <td>tornado</td>\n",
       "      <td>Quadro GP100</td>\n",
       "      <td>clgen</td>\n",
       "      <td>00b2cd9176f8fd8ff41df5853ccc8ba77620d81f.21597K</td>\n",
       "      <td>default</td>\n",
       "    </tr>\n",
       "    <tr>\n",
       "      <th>...</th>\n",
       "      <td>...</td>\n",
       "      <td>...</td>\n",
       "      <td>...</td>\n",
       "      <td>...</td>\n",
       "      <td>...</td>\n",
       "      <td>...</td>\n",
       "      <td>...</td>\n",
       "      <td>...</td>\n",
       "      <td>...</td>\n",
       "      <td>...</td>\n",
       "      <td>...</td>\n",
       "      <td>...</td>\n",
       "      <td>...</td>\n",
       "      <td>...</td>\n",
       "      <td>...</td>\n",
       "    </tr>\n",
       "    <tr>\n",
       "      <th>30738</th>\n",
       "      <td>A</td>\n",
       "      <td>21671936</td>\n",
       "      <td>32</td>\n",
       "      <td>260063232.0</td>\n",
       "      <td>3.996224e+07</td>\n",
       "      <td>1.029882e+06</td>\n",
       "      <td>(-I.,)</td>\n",
       "      <td>(-0.348847, 0.915227, 1.825628, 1.322826, -0.6...</td>\n",
       "      <td>(--memprof,)</td>\n",
       "      <td>A</td>\n",
       "      <td>tornado</td>\n",
       "      <td>Quadro GP100</td>\n",
       "      <td>clgen</td>\n",
       "      <td>a65ec87aaee54b7b387de4a6660ab5738155551a.21164K</td>\n",
       "      <td>default</td>\n",
       "    </tr>\n",
       "    <tr>\n",
       "      <th>30739</th>\n",
       "      <td>A</td>\n",
       "      <td>21671936</td>\n",
       "      <td>32</td>\n",
       "      <td>260063232.0</td>\n",
       "      <td>3.992308e+07</td>\n",
       "      <td>1.020579e+06</td>\n",
       "      <td>(-I.,)</td>\n",
       "      <td>(-0.348847, 0.915227, 1.825628, 1.322826, -0.6...</td>\n",
       "      <td>(--memprof, --break-crit-edges)</td>\n",
       "      <td>A</td>\n",
       "      <td>tornado</td>\n",
       "      <td>Quadro GP100</td>\n",
       "      <td>clgen</td>\n",
       "      <td>a65ec87aaee54b7b387de4a6660ab5738155551a.21164K</td>\n",
       "      <td>default</td>\n",
       "    </tr>\n",
       "    <tr>\n",
       "      <th>30740</th>\n",
       "      <td>A</td>\n",
       "      <td>21671936</td>\n",
       "      <td>32</td>\n",
       "      <td>260063232.0</td>\n",
       "      <td>3.994204e+07</td>\n",
       "      <td>1.889501e+06</td>\n",
       "      <td>(-I.,)</td>\n",
       "      <td>(-0.348847, 0.915227, 1.825628, 1.322826, -0.6...</td>\n",
       "      <td>(--memprof, --instrorderfile)</td>\n",
       "      <td>A</td>\n",
       "      <td>tornado</td>\n",
       "      <td>Quadro GP100</td>\n",
       "      <td>clgen</td>\n",
       "      <td>a65ec87aaee54b7b387de4a6660ab5738155551a.21164K</td>\n",
       "      <td>default</td>\n",
       "    </tr>\n",
       "    <tr>\n",
       "      <th>30741</th>\n",
       "      <td>A</td>\n",
       "      <td>21671936</td>\n",
       "      <td>32</td>\n",
       "      <td>260063232.0</td>\n",
       "      <td>3.996216e+07</td>\n",
       "      <td>1.026250e+06</td>\n",
       "      <td>(-I.,)</td>\n",
       "      <td>(-0.348847, 0.915227, 1.825628, 1.322826, -0.6...</td>\n",
       "      <td>(--memprof, --reg2mem, --instnamer)</td>\n",
       "      <td>A</td>\n",
       "      <td>tornado</td>\n",
       "      <td>Quadro GP100</td>\n",
       "      <td>clgen</td>\n",
       "      <td>a65ec87aaee54b7b387de4a6660ab5738155551a.21164K</td>\n",
       "      <td>default</td>\n",
       "    </tr>\n",
       "    <tr>\n",
       "      <th>30742</th>\n",
       "      <td>A</td>\n",
       "      <td>21671936</td>\n",
       "      <td>32</td>\n",
       "      <td>260063232.0</td>\n",
       "      <td>3.998581e+07</td>\n",
       "      <td>1.022986e+06</td>\n",
       "      <td>(-I.,)</td>\n",
       "      <td>(-0.348847, 0.915227, 1.825628, 1.322826, -0.6...</td>\n",
       "      <td>(--reg2mem, --instnamer)</td>\n",
       "      <td>A</td>\n",
       "      <td>tornado</td>\n",
       "      <td>Quadro GP100</td>\n",
       "      <td>clgen</td>\n",
       "      <td>a65ec87aaee54b7b387de4a6660ab5738155551a.21164K</td>\n",
       "      <td>default</td>\n",
       "    </tr>\n",
       "  </tbody>\n",
       "</table>\n",
       "<p>30743 rows × 15 columns</p>\n",
       "</div>"
      ],
      "text/plain": [
       "      kernelName globalSize localSize  transferredBytes  transferTimeNs  \\\n",
       "0              A   22115328       128       265383936.0    4.075714e+07   \n",
       "1              A   22115328       128       265383936.0    4.078840e+07   \n",
       "2              A   22115328       128       265383936.0    4.077028e+07   \n",
       "3              A   22115328       128       265383936.0    4.064174e+07   \n",
       "4              A   22115328       128       265383936.0    4.067339e+07   \n",
       "...          ...        ...       ...               ...             ...   \n",
       "30738          A   21671936        32       260063232.0    3.996224e+07   \n",
       "30739          A   21671936        32       260063232.0    3.992308e+07   \n",
       "30740          A   21671936        32       260063232.0    3.994204e+07   \n",
       "30741          A   21671936        32       260063232.0    3.996216e+07   \n",
       "30742          A   21671936        32       260063232.0    3.998581e+07   \n",
       "\n",
       "       kernelTimeNs build_options  \\\n",
       "0      5.308286e+05        (-I.,)   \n",
       "1      5.293440e+05        (-I.,)   \n",
       "2      5.363552e+05        (-I.,)   \n",
       "3      5.342272e+05        (-I.,)   \n",
       "4      5.288160e+05        (-I.,)   \n",
       "...             ...           ...   \n",
       "30738  1.029882e+06        (-I.,)   \n",
       "30739  1.020579e+06        (-I.,)   \n",
       "30740  1.889501e+06        (-I.,)   \n",
       "30741  1.026250e+06        (-I.,)   \n",
       "30742  1.022986e+06        (-I.,)   \n",
       "\n",
       "                                                      ir  \\\n",
       "0      (-0.567818, 0.846908, 1.716297, 1.124501, -0.8...   \n",
       "1      (-0.567818, 0.846908, 1.716297, 1.124501, -0.8...   \n",
       "2      (-0.567818, 0.846908, 1.716297, 1.124501, -0.8...   \n",
       "3      (-0.567818, 0.846908, 1.716297, 1.124501, -0.8...   \n",
       "4      (-0.567818, 0.846908, 1.716297, 1.124501, -0.8...   \n",
       "...                                                  ...   \n",
       "30738  (-0.348847, 0.915227, 1.825628, 1.322826, -0.6...   \n",
       "30739  (-0.348847, 0.915227, 1.825628, 1.322826, -0.6...   \n",
       "30740  (-0.348847, 0.915227, 1.825628, 1.322826, -0.6...   \n",
       "30741  (-0.348847, 0.915227, 1.825628, 1.322826, -0.6...   \n",
       "30742  (-0.348847, 0.915227, 1.825628, 1.322826, -0.6...   \n",
       "\n",
       "                                                     opt kernelname hostname  \\\n",
       "0                                                     ()          A  tornado   \n",
       "1                                        (--attributor,)          A  tornado   \n",
       "2      (--attributor, --structurizecfg, --break-crit-...          A  tornado   \n",
       "3                                  (--attributor-cgscc,)          A  tornado   \n",
       "4                      (--attributor-cgscc, --instnamer)          A  tornado   \n",
       "...                                                  ...        ...      ...   \n",
       "30738                                       (--memprof,)          A  tornado   \n",
       "30739                    (--memprof, --break-crit-edges)          A  tornado   \n",
       "30740                      (--memprof, --instrorderfile)          A  tornado   \n",
       "30741                (--memprof, --reg2mem, --instnamer)          A  tornado   \n",
       "30742                           (--reg2mem, --instnamer)          A  tornado   \n",
       "\n",
       "         deviceName benchmarkSuite  \\\n",
       "0      Quadro GP100          clgen   \n",
       "1      Quadro GP100          clgen   \n",
       "2      Quadro GP100          clgen   \n",
       "3      Quadro GP100          clgen   \n",
       "4      Quadro GP100          clgen   \n",
       "...             ...            ...   \n",
       "30738  Quadro GP100          clgen   \n",
       "30739  Quadro GP100          clgen   \n",
       "30740  Quadro GP100          clgen   \n",
       "30741  Quadro GP100          clgen   \n",
       "30742  Quadro GP100          clgen   \n",
       "\n",
       "                                         benchmarkName datasetName  \n",
       "0      00b2cd9176f8fd8ff41df5853ccc8ba77620d81f.21597K     default  \n",
       "1      00b2cd9176f8fd8ff41df5853ccc8ba77620d81f.21597K     default  \n",
       "2      00b2cd9176f8fd8ff41df5853ccc8ba77620d81f.21597K     default  \n",
       "3      00b2cd9176f8fd8ff41df5853ccc8ba77620d81f.21597K     default  \n",
       "4      00b2cd9176f8fd8ff41df5853ccc8ba77620d81f.21597K     default  \n",
       "...                                                ...         ...  \n",
       "30738  a65ec87aaee54b7b387de4a6660ab5738155551a.21164K     default  \n",
       "30739  a65ec87aaee54b7b387de4a6660ab5738155551a.21164K     default  \n",
       "30740  a65ec87aaee54b7b387de4a6660ab5738155551a.21164K     default  \n",
       "30741  a65ec87aaee54b7b387de4a6660ab5738155551a.21164K     default  \n",
       "30742  a65ec87aaee54b7b387de4a6660ab5738155551a.21164K     default  \n",
       "\n",
       "[30743 rows x 15 columns]"
      ]
     },
     "metadata": {},
     "execution_count": 13
    }
   ],
   "metadata": {}
  },
  {
   "cell_type": "code",
   "execution_count": 14,
   "source": [
    "datasize_performance = df[['kernelTimeNs','globalSize']].groupby('globalSize').mean()\r\n",
    "xdata = datasize_performance.index.to_numpy(dtype=float)/(1024*1024)\r\n",
    "ydata = datasize_performance.kernelTimeNs.to_numpy()"
   ],
   "outputs": [],
   "metadata": {}
  },
  {
   "cell_type": "code",
   "execution_count": null,
   "source": [
    "plt.plot(xdata,ydata)\r\n",
    "plt.xlabel(\"Workgroup Size(MB)\")\r\n",
    "plt.ylabel(\"Average kernel execution time(ns)\")\r\n",
    "plt.savefig('kerneltime-globalsize.png', dpi=1000)"
   ],
   "outputs": [],
   "metadata": {}
  },
  {
   "cell_type": "code",
   "execution_count": null,
   "source": [
    "from scipy.interpolate import interp1d\r\n",
    "from matplotlib import pyplot as plt\r\n",
    "import numpy as np\r\n",
    "datasize_performance = df[['kernelTimeNs','globalSize']].groupby('globalSize').mean()\r\n",
    "ydata = datasize_performance['kernelTimeNs'].to_numpy(dtype=float)/datasize_performance.index.to_numpy(dtype=float)\r\n",
    "xdata = datasize_performance.index.to_numpy(dtype=float)/(1024*1024)\r\n",
    "f = interp1d(xdata, ydata)\r\n",
    "\r\n",
    "xnew = np.linspace(xdata.min(), xdata.max(), 300)  \r\n",
    "y_smooth = f(xnew)\r\n",
    "plt.plot(xnew,y_smooth)\r\n",
    "plt.xlabel(\"Input Dataset Size(MB)\")\r\n",
    "plt.ylabel(\"Average kernel time(ns)\")\r\n",
    "plt.show()"
   ],
   "outputs": [
    {
     "output_type": "display_data",
     "data": {
      "image/png": "[encoded data removed]",
      "text/plain": [
       "<Figure size 432x288 with 1 Axes>"
      ]
     },
     "metadata": {
      "needs_background": "light"
     }
    }
   ],
   "metadata": {}
  },
  {
   "cell_type": "code",
   "execution_count": 22,
   "source": [
    "group = df.groupby(['benchmarkName','datasetName','benchmarkSuite'])"
   ],
   "outputs": [],
   "metadata": {}
  },
  {
   "cell_type": "code",
   "execution_count": 20,
   "source": [
    "def get_opt_data(grp):\r\n",
    "    ind_df = pd.DataFrame(columns=['opt','speedup'])\r\n",
    "    seq_df = pd.DataFrame(columns=['opt','speedup'])\r\n",
    "    i=0\r\n",
    "    j=0\r\n",
    "    for g in grp:\r\n",
    "        temp = g[1].loc[g[1]['opt']!=()]\r\n",
    "        orgKernelTimeNs = g[1].loc[g[1]['opt']==()]['kernelTimeNs'].iloc[0]\r\n",
    "        for index, row in temp.iterrows():\r\n",
    "            speedup = -(row['kernelTimeNs'] - orgKernelTimeNs)/((orgKernelTimeNs + row['kernelTimeNs'])/2)            \r\n",
    "            seq_df.loc[i] = [row['opt'],speedup]\r\n",
    "            i+=1\r\n",
    "            for opt in row['opt']:\r\n",
    "                ind_df.loc[j]= [opt, speedup]\r\n",
    "                j+=1\r\n",
    "    return ind_df,seq_df"
   ],
   "outputs": [],
   "metadata": {}
  },
  {
   "cell_type": "code",
   "execution_count": null,
   "source": [
    "ind_df,seq_df = get_opt_data(group)"
   ],
   "outputs": [],
   "metadata": {}
  },
  {
   "cell_type": "code",
   "execution_count": null,
   "source": [
    "seq_df.sort_values('speedup',ascending = False)"
   ],
   "outputs": [
    {
     "output_type": "execute_result",
     "data": {
      "text/html": [
       "<div>\n",
       "<style scoped>\n",
       "    .dataframe tbody tr th:only-of-type {\n",
       "        vertical-align: middle;\n",
       "    }\n",
       "\n",
       "    .dataframe tbody tr th {\n",
       "        vertical-align: top;\n",
       "    }\n",
       "\n",
       "    .dataframe thead th {\n",
       "        text-align: right;\n",
       "    }\n",
       "</style>\n",
       "<table border=\"1\" class=\"dataframe\">\n",
       "  <thead>\n",
       "    <tr style=\"text-align: right;\">\n",
       "      <th></th>\n",
       "      <th>opt</th>\n",
       "      <th>speedup</th>\n",
       "    </tr>\n",
       "  </thead>\n",
       "  <tbody>\n",
       "    <tr>\n",
       "      <th>2332</th>\n",
       "      <td>(--memprof, --reg2mem)</td>\n",
       "      <td>0.103678</td>\n",
       "    </tr>\n",
       "    <tr>\n",
       "      <th>2334</th>\n",
       "      <td>(--reg2mem,)</td>\n",
       "      <td>0.103642</td>\n",
       "    </tr>\n",
       "    <tr>\n",
       "      <th>2342</th>\n",
       "      <td>(--scalarizer, --attributor)</td>\n",
       "      <td>0.103547</td>\n",
       "    </tr>\n",
       "    <tr>\n",
       "      <th>2338</th>\n",
       "      <td>(--reg2mem, --memprof)</td>\n",
       "      <td>0.103341</td>\n",
       "    </tr>\n",
       "    <tr>\n",
       "      <th>2339</th>\n",
       "      <td>(--reg2mem, --reg2mem)</td>\n",
       "      <td>0.103281</td>\n",
       "    </tr>\n",
       "    <tr>\n",
       "      <th>...</th>\n",
       "      <td>...</td>\n",
       "      <td>...</td>\n",
       "    </tr>\n",
       "    <tr>\n",
       "      <th>10911</th>\n",
       "      <td>(--reg2mem, --instrorderfile, --gvn, --reg2mem...</td>\n",
       "      <td>-1.780593</td>\n",
       "    </tr>\n",
       "    <tr>\n",
       "      <th>7189</th>\n",
       "      <td>(--reg2mem, --instrorderfile, --reg2mem, --ins...</td>\n",
       "      <td>-1.782306</td>\n",
       "    </tr>\n",
       "    <tr>\n",
       "      <th>3309</th>\n",
       "      <td>(--instrorderfile, --instrorderfile, --lowerat...</td>\n",
       "      <td>-1.788056</td>\n",
       "    </tr>\n",
       "    <tr>\n",
       "      <th>9385</th>\n",
       "      <td>(--reg2mem, --bdce, --instrorderfile, --gvn-ho...</td>\n",
       "      <td>-1.790252</td>\n",
       "    </tr>\n",
       "    <tr>\n",
       "      <th>7233</th>\n",
       "      <td>(--instrorderfile, --loop-extract-single, --in...</td>\n",
       "      <td>-1.803239</td>\n",
       "    </tr>\n",
       "  </tbody>\n",
       "</table>\n",
       "<p>29203 rows × 2 columns</p>\n",
       "</div>"
      ],
      "text/plain": [
       "                                                     opt   speedup\n",
       "2332                              (--memprof, --reg2mem)  0.103678\n",
       "2334                                        (--reg2mem,)  0.103642\n",
       "2342                        (--scalarizer, --attributor)  0.103547\n",
       "2338                              (--reg2mem, --memprof)  0.103341\n",
       "2339                              (--reg2mem, --reg2mem)  0.103281\n",
       "...                                                  ...       ...\n",
       "10911  (--reg2mem, --instrorderfile, --gvn, --reg2mem... -1.780593\n",
       "7189   (--reg2mem, --instrorderfile, --reg2mem, --ins... -1.782306\n",
       "3309   (--instrorderfile, --instrorderfile, --lowerat... -1.788056\n",
       "9385   (--reg2mem, --bdce, --instrorderfile, --gvn-ho... -1.790252\n",
       "7233   (--instrorderfile, --loop-extract-single, --in... -1.803239\n",
       "\n",
       "[29203 rows x 2 columns]"
      ]
     },
     "metadata": {},
     "execution_count": 92
    }
   ],
   "metadata": {}
  },
  {
   "cell_type": "code",
   "execution_count": null,
   "source": [
    "p = ind_df.groupby('opt').mean().sort_values('speedup',ascending = False)[:10]\r\n",
    "p['speedup']=round(p.speedup*100,4)\r\n",
    "p.mean()"
   ],
   "outputs": [
    {
     "output_type": "execute_result",
     "data": {
      "text/plain": [
       "speedup    0.85851\n",
       "dtype: float64"
      ]
     },
     "metadata": {},
     "execution_count": 88
    }
   ],
   "metadata": {}
  },
  {
   "cell_type": "code",
   "execution_count": null,
   "source": [
    "p"
   ],
   "outputs": [
    {
     "output_type": "execute_result",
     "data": {
      "text/html": [
       "<div>\n",
       "<style scoped>\n",
       "    .dataframe tbody tr th:only-of-type {\n",
       "        vertical-align: middle;\n",
       "    }\n",
       "\n",
       "    .dataframe tbody tr th {\n",
       "        vertical-align: top;\n",
       "    }\n",
       "\n",
       "    .dataframe thead th {\n",
       "        text-align: right;\n",
       "    }\n",
       "</style>\n",
       "<table border=\"1\" class=\"dataframe\">\n",
       "  <thead>\n",
       "    <tr style=\"text-align: right;\">\n",
       "      <th></th>\n",
       "      <th>speedup</th>\n",
       "    </tr>\n",
       "    <tr>\n",
       "      <th>opt</th>\n",
       "      <th></th>\n",
       "    </tr>\n",
       "  </thead>\n",
       "  <tbody>\n",
       "    <tr>\n",
       "      <th>--loop-versioning</th>\n",
       "      <td>0.021658</td>\n",
       "    </tr>\n",
       "    <tr>\n",
       "      <th>--loop-load-elim</th>\n",
       "      <td>0.019056</td>\n",
       "    </tr>\n",
       "    <tr>\n",
       "      <th>--loop-unroll</th>\n",
       "      <td>0.017078</td>\n",
       "    </tr>\n",
       "    <tr>\n",
       "      <th>--loop-flatten</th>\n",
       "      <td>0.008230</td>\n",
       "    </tr>\n",
       "    <tr>\n",
       "      <th>--loop-vectorize</th>\n",
       "      <td>0.006665</td>\n",
       "    </tr>\n",
       "    <tr>\n",
       "      <th>...</th>\n",
       "      <td>...</td>\n",
       "    </tr>\n",
       "    <tr>\n",
       "      <th>--separate-const-offset-from-gep</th>\n",
       "      <td>-0.891383</td>\n",
       "    </tr>\n",
       "    <tr>\n",
       "      <th>--infer-address-spaces</th>\n",
       "      <td>-0.940425</td>\n",
       "    </tr>\n",
       "    <tr>\n",
       "      <th>--instrorderfile</th>\n",
       "      <td>-0.993525</td>\n",
       "    </tr>\n",
       "    <tr>\n",
       "      <th>--loweratomic</th>\n",
       "      <td>-1.041945</td>\n",
       "    </tr>\n",
       "    <tr>\n",
       "      <th>--bounds-checking</th>\n",
       "      <td>-1.054752</td>\n",
       "    </tr>\n",
       "  </tbody>\n",
       "</table>\n",
       "<p>62 rows × 1 columns</p>\n",
       "</div>"
      ],
      "text/plain": [
       "                                   speedup\n",
       "opt                                       \n",
       "--loop-versioning                 0.021658\n",
       "--loop-load-elim                  0.019056\n",
       "--loop-unroll                     0.017078\n",
       "--loop-flatten                    0.008230\n",
       "--loop-vectorize                  0.006665\n",
       "...                                    ...\n",
       "--separate-const-offset-from-gep -0.891383\n",
       "--infer-address-spaces           -0.940425\n",
       "--instrorderfile                 -0.993525\n",
       "--loweratomic                    -1.041945\n",
       "--bounds-checking                -1.054752\n",
       "\n",
       "[62 rows x 1 columns]"
      ]
     },
     "metadata": {},
     "execution_count": 85
    }
   ],
   "metadata": {}
  },
  {
   "cell_type": "code",
   "execution_count": 23,
   "source": [
    "def get_pair_data(grp):\r\n",
    "    df = pd.DataFrame(columns=['ir1','ir2','opt1','opt2','datasetName','globalSize','localSize','kernelTimeNs1','kernelTimeNs2','speedup','percent_speedup'])\r\n",
    "    k=0\r\n",
    "    for g in grp:\r\n",
    "        temp = g[1]\r\n",
    "        for comb in combinations(temp.index,2):\r\n",
    "            first = temp.loc[comb[0]]\r\n",
    "            second = temp.loc[comb[1]]\r\n",
    "            speedup = second['kernelTimeNs'] - first['kernelTimeNs']\r\n",
    "            avg = (first['kernelTimeNs'] + second['kernelTimeNs'])\r\n",
    "            df.loc[k]=[first['ir'],second['ir'],first['opt'],second['opt'],first['datasetName'],float(first['globalSize']),float(first['localSize']),first['kernelTimeNs'], second['kernelTimeNs'],speedup,-speedup/avg]\r\n",
    "            k+=1\r\n",
    "    return df"
   ],
   "outputs": [],
   "metadata": {}
  },
  {
   "cell_type": "code",
   "execution_count": 24,
   "source": [
    "d = get_pair_data(group)"
   ],
   "outputs": [],
   "metadata": {}
  },
  {
   "cell_type": "code",
   "execution_count": 25,
   "source": [
    "# d['percent_speedup'] = (d['percent_speedup'] - d['percent_speedup'].min())/(d['percent_speedup'].max()-d['percent_speedup'].min())\r\n",
    "d.percent_speedup.describe()"
   ],
   "outputs": [
    {
     "output_type": "execute_result",
     "data": {
      "text/plain": [
       "count    360183.000000\n",
       "mean         -0.012093\n",
       "std           0.332905\n",
       "min          -0.902184\n",
       "25%          -0.005036\n",
       "50%           0.000009\n",
       "75%           0.004556\n",
       "max           0.902393\n",
       "Name: percent_speedup, dtype: float64"
      ]
     },
     "metadata": {},
     "execution_count": 25
    }
   ],
   "metadata": {}
  },
  {
   "cell_type": "code",
   "execution_count": 26,
   "source": [
    "final_df = d[['ir1','ir2','opt1','opt2',\"globalSize\",\"localSize\",\"percent_speedup\"]]"
   ],
   "outputs": [],
   "metadata": {}
  },
  {
   "cell_type": "code",
   "execution_count": 27,
   "source": [
    "final_df[\"ir1\"] = final_df.apply(lambda x:list(x[\"ir1\"]),axis=1)\r\n",
    "final_df[\"ir2\"] = final_df.apply(lambda x:list(x[\"ir2\"]),axis=1)\r\n",
    "final_df[\"opt1\"] = final_df.apply(lambda x:list(x[\"opt1\"]),axis=1)\r\n",
    "final_df[\"opt2\"] = final_df.apply(lambda x:list(x[\"opt2\"]),axis=1)"
   ],
   "outputs": [
    {
     "output_type": "stream",
     "name": "stderr",
     "text": [
      "<ipython-input-27-017a10d62971>:1: SettingWithCopyWarning: \n",
      "A value is trying to be set on a copy of a slice from a DataFrame.\n",
      "Try using .loc[row_indexer,col_indexer] = value instead\n",
      "\n",
      "See the caveats in the documentation: https://pandas.pydata.org/pandas-docs/stable/user_guide/indexing.html#returning-a-view-versus-a-copy\n",
      "  final_df[\"ir1\"] = final_df.apply(lambda x:list(x[\"ir1\"]),axis=1)\n"
     ]
    }
   ],
   "metadata": {}
  },
  {
   "cell_type": "code",
   "execution_count": null,
   "source": [
    "final_df.to_parquet('dataset.pq')"
   ],
   "outputs": [],
   "metadata": {}
  },
  {
   "cell_type": "code",
   "execution_count": null,
   "source": [],
   "outputs": [],
   "metadata": {}
  }
 ],
 "metadata": {
  "kernelspec": {
   "name": "python3",
   "display_name": "Python 3.8.5 64-bit ('base': conda)"
  },
  "language_info": {
   "codemirror_mode": {
    "name": "ipython",
    "version": 3
   },
   "file_extension": ".py",
   "mimetype": "text/x-python",
   "name": "python",
   "nbconvert_exporter": "python",
   "pygments_lexer": "ipython3",
   "version": "3.8.5"
  },
  "interpreter": {
   "hash": "b3ba2566441a7c06988d0923437866b63cedc61552a5af99d1f4fb67d367b25f"
  }
 },
 "nbformat": 4,
 "nbformat_minor": 5
}