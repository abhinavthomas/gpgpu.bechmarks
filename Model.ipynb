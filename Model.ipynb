{
  "nbformat": 4,
  "nbformat_minor": 5,
  "metadata": {
    "kernelspec": {
      "display_name": "Python 3",
      "language": "python",
      "name": "python3"
    },
    "language_info": {
      "codemirror_mode": {
        "name": "ipython",
        "version": 3
      },
      "file_extension": ".py",
      "mimetype": "text/x-python",
      "name": "python",
      "nbconvert_exporter": "python",
      "pygments_lexer": "ipython3",
      "version": "3.8.5"
    },
    "colab": {
      "name": "Model.ipynb",
      "provenance": [],
      "collapsed_sections": []
    },
    "widgets": {
      "application/vnd.jupyter.widget-state+json": {
        "ca6dbc55e5f04c008585271903d67ed5": {
          "model_module": "@jupyter-widgets/controls",
          "model_name": "HBoxModel",
          "model_module_version": "1.5.0",
          "state": {
            "_view_name": "HBoxView",
            "_dom_classes": [],
            "_model_name": "HBoxModel",
            "_view_module": "@jupyter-widgets/controls",
            "_model_module_version": "1.5.0",
            "_view_count": null,
            "_view_module_version": "1.5.0",
            "box_style": "",
            "layout": "IPY_MODEL_ca448aa1da6e4f8baef429837d5877f6",
            "_model_module": "@jupyter-widgets/controls",
            "children": [
              "IPY_MODEL_6b64431b4d054d2baa0b94621a7cdec7",
              "IPY_MODEL_aeb7c3cbc53d4b09b965939d9199fceb",
              "IPY_MODEL_41ae1808e4c548eeb1e880375cf66344"
            ]
          }
        },
        "ca448aa1da6e4f8baef429837d5877f6": {
          "model_module": "@jupyter-widgets/base",
          "model_name": "LayoutModel",
          "model_module_version": "1.2.0",
          "state": {
            "_view_name": "LayoutView",
            "grid_template_rows": null,
            "right": null,
            "justify_content": null,
            "_view_module": "@jupyter-widgets/base",
            "overflow": null,
            "_model_module_version": "1.2.0",
            "_view_count": null,
            "flex_flow": "row wrap",
            "width": "100%",
            "min_width": null,
            "border": null,
            "align_items": null,
            "bottom": null,
            "_model_module": "@jupyter-widgets/base",
            "top": null,
            "grid_column": null,
            "overflow_y": null,
            "overflow_x": null,
            "grid_auto_flow": null,
            "grid_area": null,
            "grid_template_columns": null,
            "flex": null,
            "_model_name": "LayoutModel",
            "justify_items": null,
            "grid_row": null,
            "max_height": null,
            "align_content": null,
            "visibility": null,
            "align_self": null,
            "height": null,
            "min_height": null,
            "padding": null,
            "grid_auto_rows": null,
            "grid_gap": null,
            "max_width": null,
            "order": null,
            "_view_module_version": "1.2.0",
            "grid_template_areas": null,
            "object_position": null,
            "object_fit": null,
            "grid_auto_columns": null,
            "margin": null,
            "display": "inline-flex",
            "left": null
          }
        },
        "6b64431b4d054d2baa0b94621a7cdec7": {
          "model_module": "@jupyter-widgets/controls",
          "model_name": "HTMLModel",
          "model_module_version": "1.5.0",
          "state": {
            "_view_name": "HTMLView",
            "style": "IPY_MODEL_2273ae3524234d80b01c65da2eacf4a9",
            "_dom_classes": [],
            "description": "",
            "_model_name": "HTMLModel",
            "placeholder": "​",
            "_view_module": "@jupyter-widgets/controls",
            "_model_module_version": "1.5.0",
            "value": "Predicting: 100%",
            "_view_count": null,
            "_view_module_version": "1.5.0",
            "description_tooltip": null,
            "_model_module": "@jupyter-widgets/controls",
            "layout": "IPY_MODEL_31f8dacccb184147928e09648dee36ff"
          }
        },
        "aeb7c3cbc53d4b09b965939d9199fceb": {
          "model_module": "@jupyter-widgets/controls",
          "model_name": "FloatProgressModel",
          "model_module_version": "1.5.0",
          "state": {
            "_view_name": "ProgressView",
            "style": "IPY_MODEL_8342708aaada4adb8c6f45322fdd2c5f",
            "_dom_classes": [],
            "description": "",
            "_model_name": "FloatProgressModel",
            "bar_style": "success",
            "max": 1,
            "_view_module": "@jupyter-widgets/controls",
            "_model_module_version": "1.5.0",
            "value": 1,
            "_view_count": null,
            "_view_module_version": "1.5.0",
            "orientation": "horizontal",
            "min": 0,
            "description_tooltip": null,
            "_model_module": "@jupyter-widgets/controls",
            "layout": "IPY_MODEL_478167310f1b47a6b3fc1f61f3c18ad2"
          }
        },
        "41ae1808e4c548eeb1e880375cf66344": {
          "model_module": "@jupyter-widgets/controls",
          "model_name": "HTMLModel",
          "model_module_version": "1.5.0",
          "state": {
            "_view_name": "HTMLView",
            "style": "IPY_MODEL_59d875a0785a4c5ebe9e78ca16fd72e3",
            "_dom_classes": [],
            "description": "",
            "_model_name": "HTMLModel",
            "placeholder": "​",
            "_view_module": "@jupyter-widgets/controls",
            "_model_module_version": "1.5.0",
            "value": " 2252/2252 [00:14&lt;00:00, 51.94it/s]",
            "_view_count": null,
            "_view_module_version": "1.5.0",
            "description_tooltip": null,
            "_model_module": "@jupyter-widgets/controls",
            "layout": "IPY_MODEL_b43cfb3e138844c1a5523b2003aa8ec2"
          }
        },
        "2273ae3524234d80b01c65da2eacf4a9": {
          "model_module": "@jupyter-widgets/controls",
          "model_name": "DescriptionStyleModel",
          "model_module_version": "1.5.0",
          "state": {
            "_view_name": "StyleView",
            "_model_name": "DescriptionStyleModel",
            "description_width": "",
            "_view_module": "@jupyter-widgets/base",
            "_model_module_version": "1.5.0",
            "_view_count": null,
            "_view_module_version": "1.2.0",
            "_model_module": "@jupyter-widgets/controls"
          }
        },
        "31f8dacccb184147928e09648dee36ff": {
          "model_module": "@jupyter-widgets/base",
          "model_name": "LayoutModel",
          "model_module_version": "1.2.0",
          "state": {
            "_view_name": "LayoutView",
            "grid_template_rows": null,
            "right": null,
            "justify_content": null,
            "_view_module": "@jupyter-widgets/base",
            "overflow": null,
            "_model_module_version": "1.2.0",
            "_view_count": null,
            "flex_flow": null,
            "width": null,
            "min_width": null,
            "border": null,
            "align_items": null,
            "bottom": null,
            "_model_module": "@jupyter-widgets/base",
            "top": null,
            "grid_column": null,
            "overflow_y": null,
            "overflow_x": null,
            "grid_auto_flow": null,
            "grid_area": null,
            "grid_template_columns": null,
            "flex": null,
            "_model_name": "LayoutModel",
            "justify_items": null,
            "grid_row": null,
            "max_height": null,
            "align_content": null,
            "visibility": null,
            "align_self": null,
            "height": null,
            "min_height": null,
            "padding": null,
            "grid_auto_rows": null,
            "grid_gap": null,
            "max_width": null,
            "order": null,
            "_view_module_version": "1.2.0",
            "grid_template_areas": null,
            "object_position": null,
            "object_fit": null,
            "grid_auto_columns": null,
            "margin": null,
            "display": null,
            "left": null
          }
        },
        "8342708aaada4adb8c6f45322fdd2c5f": {
          "model_module": "@jupyter-widgets/controls",
          "model_name": "ProgressStyleModel",
          "model_module_version": "1.5.0",
          "state": {
            "_view_name": "StyleView",
            "_model_name": "ProgressStyleModel",
            "description_width": "",
            "_view_module": "@jupyter-widgets/base",
            "_model_module_version": "1.5.0",
            "_view_count": null,
            "_view_module_version": "1.2.0",
            "bar_color": null,
            "_model_module": "@jupyter-widgets/controls"
          }
        },
        "478167310f1b47a6b3fc1f61f3c18ad2": {
          "model_module": "@jupyter-widgets/base",
          "model_name": "LayoutModel",
          "model_module_version": "1.2.0",
          "state": {
            "_view_name": "LayoutView",
            "grid_template_rows": null,
            "right": null,
            "justify_content": null,
            "_view_module": "@jupyter-widgets/base",
            "overflow": null,
            "_model_module_version": "1.2.0",
            "_view_count": null,
            "flex_flow": null,
            "width": null,
            "min_width": null,
            "border": null,
            "align_items": null,
            "bottom": null,
            "_model_module": "@jupyter-widgets/base",
            "top": null,
            "grid_column": null,
            "overflow_y": null,
            "overflow_x": null,
            "grid_auto_flow": null,
            "grid_area": null,
            "grid_template_columns": null,
            "flex": "2",
            "_model_name": "LayoutModel",
            "justify_items": null,
            "grid_row": null,
            "max_height": null,
            "align_content": null,
            "visibility": null,
            "align_self": null,
            "height": null,
            "min_height": null,
            "padding": null,
            "grid_auto_rows": null,
            "grid_gap": null,
            "max_width": null,
            "order": null,
            "_view_module_version": "1.2.0",
            "grid_template_areas": null,
            "object_position": null,
            "object_fit": null,
            "grid_auto_columns": null,
            "margin": null,
            "display": null,
            "left": null
          }
        },
        "59d875a0785a4c5ebe9e78ca16fd72e3": {
          "model_module": "@jupyter-widgets/controls",
          "model_name": "DescriptionStyleModel",
          "model_module_version": "1.5.0",
          "state": {
            "_view_name": "StyleView",
            "_model_name": "DescriptionStyleModel",
            "description_width": "",
            "_view_module": "@jupyter-widgets/base",
            "_model_module_version": "1.5.0",
            "_view_count": null,
            "_view_module_version": "1.2.0",
            "_model_module": "@jupyter-widgets/controls"
          }
        },
        "b43cfb3e138844c1a5523b2003aa8ec2": {
          "model_module": "@jupyter-widgets/base",
          "model_name": "LayoutModel",
          "model_module_version": "1.2.0",
          "state": {
            "_view_name": "LayoutView",
            "grid_template_rows": null,
            "right": null,
            "justify_content": null,
            "_view_module": "@jupyter-widgets/base",
            "overflow": null,
            "_model_module_version": "1.2.0",
            "_view_count": null,
            "flex_flow": null,
            "width": null,
            "min_width": null,
            "border": null,
            "align_items": null,
            "bottom": null,
            "_model_module": "@jupyter-widgets/base",
            "top": null,
            "grid_column": null,
            "overflow_y": null,
            "overflow_x": null,
            "grid_auto_flow": null,
            "grid_area": null,
            "grid_template_columns": null,
            "flex": null,
            "_model_name": "LayoutModel",
            "justify_items": null,
            "grid_row": null,
            "max_height": null,
            "align_content": null,
            "visibility": null,
            "align_self": null,
            "height": null,
            "min_height": null,
            "padding": null,
            "grid_auto_rows": null,
            "grid_gap": null,
            "max_width": null,
            "order": null,
            "_view_module_version": "1.2.0",
            "grid_template_areas": null,
            "object_position": null,
            "object_fit": null,
            "grid_auto_columns": null,
            "margin": null,
            "display": null,
            "left": null
          }
        }
      }
    },
    "accelerator": "TPU"
  },
  "cells": [
    {
      "cell_type": "code",
      "metadata": {
        "colab": {
          "base_uri": "https://localhost:8080/"
        },
        "id": "_cMA7EJajih1",
        "outputId": "7c25c18a-0bc2-49ef-88a7-71373e7b573d"
      },
      "source": [
        "!pip install pytorch_lightning"
      ],
      "id": "_cMA7EJajih1",
      "execution_count": 1,
      "outputs": [
        {
          "output_type": "stream",
          "name": "stdout",
          "text": [
            "Collecting pytorch_lightning\n",
            "  Downloading pytorch_lightning-1.4.5-py3-none-any.whl (919 kB)\n",
            "\u001b[K     |████████████████████████████████| 919 kB 5.6 MB/s \n",
            "\u001b[?25hCollecting future>=0.17.1\n",
            "  Downloading future-0.18.2.tar.gz (829 kB)\n",
            "\u001b[K     |████████████████████████████████| 829 kB 41.4 MB/s \n",
            "\u001b[?25hRequirement already satisfied: tensorboard>=2.2.0 in /usr/local/lib/python3.7/dist-packages (from pytorch_lightning) (2.6.0)\n",
            "Collecting PyYAML>=5.1\n",
            "  Downloading PyYAML-5.4.1-cp37-cp37m-manylinux1_x86_64.whl (636 kB)\n",
            "\u001b[K     |████████████████████████████████| 636 kB 32.7 MB/s \n",
            "\u001b[?25hRequirement already satisfied: numpy>=1.17.2 in /usr/local/lib/python3.7/dist-packages (from pytorch_lightning) (1.19.5)\n",
            "Collecting torchmetrics>=0.4.0\n",
            "  Downloading torchmetrics-0.5.1-py3-none-any.whl (282 kB)\n",
            "\u001b[K     |████████████████████████████████| 282 kB 28.7 MB/s \n",
            "\u001b[?25hCollecting pyDeprecate==0.3.1\n",
            "  Downloading pyDeprecate-0.3.1-py3-none-any.whl (10 kB)\n",
            "Requirement already satisfied: packaging>=17.0 in /usr/local/lib/python3.7/dist-packages (from pytorch_lightning) (21.0)\n",
            "Requirement already satisfied: typing-extensions in /usr/local/lib/python3.7/dist-packages (from pytorch_lightning) (3.7.4.3)\n",
            "Requirement already satisfied: torch>=1.6 in /usr/local/lib/python3.7/dist-packages (from pytorch_lightning) (1.9.0+cu102)\n",
            "Requirement already satisfied: tqdm>=4.41.0 in /usr/local/lib/python3.7/dist-packages (from pytorch_lightning) (4.62.0)\n",
            "Collecting fsspec[http]!=2021.06.0,>=2021.05.0\n",
            "  Downloading fsspec-2021.8.1-py3-none-any.whl (119 kB)\n",
            "\u001b[K     |████████████████████████████████| 119 kB 54.7 MB/s \n",
            "\u001b[?25hCollecting aiohttp\n",
            "  Downloading aiohttp-3.7.4.post0-cp37-cp37m-manylinux2014_x86_64.whl (1.3 MB)\n",
            "\u001b[K     |████████████████████████████████| 1.3 MB 34.0 MB/s \n",
            "\u001b[?25hRequirement already satisfied: requests in /usr/local/lib/python3.7/dist-packages (from fsspec[http]!=2021.06.0,>=2021.05.0->pytorch_lightning) (2.23.0)\n",
            "Requirement already satisfied: pyparsing>=2.0.2 in /usr/local/lib/python3.7/dist-packages (from packaging>=17.0->pytorch_lightning) (2.4.7)\n",
            "Requirement already satisfied: tensorboard-plugin-wit>=1.6.0 in /usr/local/lib/python3.7/dist-packages (from tensorboard>=2.2.0->pytorch_lightning) (1.8.0)\n",
            "Requirement already satisfied: google-auth-oauthlib<0.5,>=0.4.1 in /usr/local/lib/python3.7/dist-packages (from tensorboard>=2.2.0->pytorch_lightning) (0.4.5)\n",
            "Requirement already satisfied: markdown>=2.6.8 in /usr/local/lib/python3.7/dist-packages (from tensorboard>=2.2.0->pytorch_lightning) (3.3.4)\n",
            "Requirement already satisfied: protobuf>=3.6.0 in /usr/local/lib/python3.7/dist-packages (from tensorboard>=2.2.0->pytorch_lightning) (3.17.3)\n",
            "Requirement already satisfied: tensorboard-data-server<0.7.0,>=0.6.0 in /usr/local/lib/python3.7/dist-packages (from tensorboard>=2.2.0->pytorch_lightning) (0.6.1)\n",
            "Requirement already satisfied: werkzeug>=0.11.15 in /usr/local/lib/python3.7/dist-packages (from tensorboard>=2.2.0->pytorch_lightning) (1.0.1)\n",
            "Requirement already satisfied: wheel>=0.26 in /usr/local/lib/python3.7/dist-packages (from tensorboard>=2.2.0->pytorch_lightning) (0.37.0)\n",
            "Requirement already satisfied: setuptools>=41.0.0 in /usr/local/lib/python3.7/dist-packages (from tensorboard>=2.2.0->pytorch_lightning) (57.4.0)\n",
            "Requirement already satisfied: absl-py>=0.4 in /usr/local/lib/python3.7/dist-packages (from tensorboard>=2.2.0->pytorch_lightning) (0.12.0)\n",
            "Requirement already satisfied: google-auth<2,>=1.6.3 in /usr/local/lib/python3.7/dist-packages (from tensorboard>=2.2.0->pytorch_lightning) (1.34.0)\n",
            "Requirement already satisfied: grpcio>=1.24.3 in /usr/local/lib/python3.7/dist-packages (from tensorboard>=2.2.0->pytorch_lightning) (1.39.0)\n",
            "Requirement already satisfied: six in /usr/local/lib/python3.7/dist-packages (from absl-py>=0.4->tensorboard>=2.2.0->pytorch_lightning) (1.15.0)\n",
            "Requirement already satisfied: cachetools<5.0,>=2.0.0 in /usr/local/lib/python3.7/dist-packages (from google-auth<2,>=1.6.3->tensorboard>=2.2.0->pytorch_lightning) (4.2.2)\n",
            "Requirement already satisfied: pyasn1-modules>=0.2.1 in /usr/local/lib/python3.7/dist-packages (from google-auth<2,>=1.6.3->tensorboard>=2.2.0->pytorch_lightning) (0.2.8)\n",
            "Requirement already satisfied: rsa<5,>=3.1.4 in /usr/local/lib/python3.7/dist-packages (from google-auth<2,>=1.6.3->tensorboard>=2.2.0->pytorch_lightning) (4.7.2)\n",
            "Requirement already satisfied: requests-oauthlib>=0.7.0 in /usr/local/lib/python3.7/dist-packages (from google-auth-oauthlib<0.5,>=0.4.1->tensorboard>=2.2.0->pytorch_lightning) (1.3.0)\n",
            "Requirement already satisfied: importlib-metadata in /usr/local/lib/python3.7/dist-packages (from markdown>=2.6.8->tensorboard>=2.2.0->pytorch_lightning) (4.6.4)\n",
            "Requirement already satisfied: pyasn1<0.5.0,>=0.4.6 in /usr/local/lib/python3.7/dist-packages (from pyasn1-modules>=0.2.1->google-auth<2,>=1.6.3->tensorboard>=2.2.0->pytorch_lightning) (0.4.8)\n",
            "Requirement already satisfied: urllib3!=1.25.0,!=1.25.1,<1.26,>=1.21.1 in /usr/local/lib/python3.7/dist-packages (from requests->fsspec[http]!=2021.06.0,>=2021.05.0->pytorch_lightning) (1.24.3)\n",
            "Requirement already satisfied: idna<3,>=2.5 in /usr/local/lib/python3.7/dist-packages (from requests->fsspec[http]!=2021.06.0,>=2021.05.0->pytorch_lightning) (2.10)\n",
            "Requirement already satisfied: certifi>=2017.4.17 in /usr/local/lib/python3.7/dist-packages (from requests->fsspec[http]!=2021.06.0,>=2021.05.0->pytorch_lightning) (2021.5.30)\n",
            "Requirement already satisfied: chardet<4,>=3.0.2 in /usr/local/lib/python3.7/dist-packages (from requests->fsspec[http]!=2021.06.0,>=2021.05.0->pytorch_lightning) (3.0.4)\n",
            "Requirement already satisfied: oauthlib>=3.0.0 in /usr/local/lib/python3.7/dist-packages (from requests-oauthlib>=0.7.0->google-auth-oauthlib<0.5,>=0.4.1->tensorboard>=2.2.0->pytorch_lightning) (3.1.1)\n",
            "Collecting async-timeout<4.0,>=3.0\n",
            "  Downloading async_timeout-3.0.1-py3-none-any.whl (8.2 kB)\n",
            "Requirement already satisfied: attrs>=17.3.0 in /usr/local/lib/python3.7/dist-packages (from aiohttp->fsspec[http]!=2021.06.0,>=2021.05.0->pytorch_lightning) (21.2.0)\n",
            "Collecting yarl<2.0,>=1.0\n",
            "  Downloading yarl-1.6.3-cp37-cp37m-manylinux2014_x86_64.whl (294 kB)\n",
            "\u001b[K     |████████████████████████████████| 294 kB 41.1 MB/s \n",
            "\u001b[?25hCollecting multidict<7.0,>=4.5\n",
            "  Downloading multidict-5.1.0-cp37-cp37m-manylinux2014_x86_64.whl (142 kB)\n",
            "\u001b[K     |████████████████████████████████| 142 kB 68.3 MB/s \n",
            "\u001b[?25hRequirement already satisfied: zipp>=0.5 in /usr/local/lib/python3.7/dist-packages (from importlib-metadata->markdown>=2.6.8->tensorboard>=2.2.0->pytorch_lightning) (3.5.0)\n",
            "Building wheels for collected packages: future\n",
            "  Building wheel for future (setup.py) ... \u001b[?25l\u001b[?25hdone\n",
            "  Created wheel for future: filename=future-0.18.2-py3-none-any.whl size=491070 sha256=d70399b5bba6880ede33ba0fcca570a59f5486ac41a1e4cf93e573c37ca725de\n",
            "  Stored in directory: /root/.cache/pip/wheels/56/b0/fe/4410d17b32f1f0c3cf54cdfb2bc04d7b4b8f4ae377e2229ba0\n",
            "Successfully built future\n",
            "Installing collected packages: multidict, yarl, async-timeout, fsspec, aiohttp, torchmetrics, PyYAML, pyDeprecate, future, pytorch-lightning\n",
            "  Attempting uninstall: PyYAML\n",
            "    Found existing installation: PyYAML 3.13\n",
            "    Uninstalling PyYAML-3.13:\n",
            "      Successfully uninstalled PyYAML-3.13\n",
            "  Attempting uninstall: future\n",
            "    Found existing installation: future 0.16.0\n",
            "    Uninstalling future-0.16.0:\n",
            "      Successfully uninstalled future-0.16.0\n",
            "Successfully installed PyYAML-5.4.1 aiohttp-3.7.4.post0 async-timeout-3.0.1 fsspec-2021.8.1 future-0.18.2 multidict-5.1.0 pyDeprecate-0.3.1 pytorch-lightning-1.4.5 torchmetrics-0.5.1 yarl-1.6.3\n"
          ]
        }
      ]
    },
    {
      "cell_type": "code",
      "metadata": {
        "id": "b17c1539"
      },
      "source": [
        "import pandas as pd\n",
        "import torch\n",
        "import numpy as np\n",
        "from torch import nn\n",
        "from torch.nn import functional as F\n",
        "from torch.utils.data import DataLoader, Dataset\n",
        "from torch.utils.data import random_split\n",
        "import pytorch_lightning as pl\n",
        "from pytorch_lightning.callbacks import ModelCheckpoint"
      ],
      "id": "b17c1539",
      "execution_count": 2,
      "outputs": []
    },
    {
      "cell_type": "code",
      "metadata": {
        "id": "26ab23d6"
      },
      "source": [
        "class Speedup(pl.LightningModule):\n",
        "    def __init__(self,embed_dim=300,num_feats=1,hidden_dim=64):\n",
        "        super().__init__()\n",
        "        self.encoder = nn.Sequential(\n",
        "            nn.Linear(embed_dim,256),\n",
        "            nn.LeakyReLU(0.1),\n",
        "            nn.Linear(256,128),\n",
        "            nn.LeakyReLU(0.1),\n",
        "            nn.Linear(128,hidden_dim),\n",
        "            nn.BatchNorm1d(hidden_dim)\n",
        "        )\n",
        "        self.out = nn.Sequential(\n",
        "            nn.Linear(hidden_dim+num_feats,32),\n",
        "            nn.BatchNorm1d(32),\n",
        "            nn.LeakyReLU(0.1),\n",
        "            nn.Linear(32,1),\n",
        "            nn.Tanh())\n",
        "        \n",
        "    def forward(self, e1, e2, s, l):\n",
        "        diff = self.encoder(e1.float())-self.encoder(e2.float())\n",
        "        diff = diff.view(diff.size()[0], -1)\n",
        "        s = s.view(s.size()[0], -1)\n",
        "        c = torch.cat((diff.float(),s.float()),1)\n",
        "        out = self.out(c.float())\n",
        "        return out\n",
        "\n",
        "    def configure_optimizers(self):\n",
        "        optimizer = torch.optim.Adam(self.parameters(), lr=1e-3)\n",
        "        return optimizer\n",
        "\n",
        "    def training_step(self, train_batch, batch_idx):\n",
        "        ir1, ir2, runtime_params, percent_speedup = train_batch\n",
        "        y_hat = self(ir1,ir2,runtime_params)\n",
        "        loss = F.mse_loss(y_hat, percent_speedup.float().unsqueeze(1))\n",
        "        self.log('train_loss', loss)\n",
        "        return loss\n",
        "\n",
        "    def predict_step(self, batch, batch_idx: int, dataloader_idx: int = None):\n",
        "        ir1, ir2, runtime_params,y = batch\n",
        "        y_hat = self(ir1,ir2,runtime_params)\n",
        "        return (y_hat,y)\n",
        "\n",
        "    def validation_step(self, val_batch, batch_idx):\n",
        "        ir1, ir2, runtime_params, percent_speedup = val_batch\n",
        "        y_hat = self(ir1,ir2,runtime_params)\n",
        "        loss = F.mse_loss(y_hat, percent_speedup.float().unsqueeze(1))\n",
        "        self.log('val_loss', loss)"
      ],
      "id": "26ab23d6",
      "execution_count": null,
      "outputs": []
    },
    {
      "cell_type": "code",
      "metadata": {
        "colab": {
          "base_uri": "https://localhost:8080/"
        },
        "id": "vEi_LF9cl9dZ",
        "outputId": "f15b5afc-df5e-4ba3-d559-9b4cbdf9b446"
      },
      "source": [
        "from google.colab import drive\n",
        "drive.mount('/content/drive')"
      ],
      "id": "vEi_LF9cl9dZ",
      "execution_count": 3,
      "outputs": [
        {
          "output_type": "stream",
          "name": "stdout",
          "text": [
            "Mounted at /content/drive\n"
          ]
        }
      ]
    },
    {
      "cell_type": "code",
      "metadata": {
        "id": "db34e4b6"
      },
      "source": [
        "class PerformanceData(Dataset):\n",
        "    \"\"\"\n",
        "        Class for creating iterator to kernel performance dataset\n",
        "    \"\"\"\n",
        "\n",
        "    def __init__(self, ir1, ir2, input_size, percent_speedup):\n",
        "        self.ir1=ir1\n",
        "        self.ir2=ir2\n",
        "        self.input_size=input_size\n",
        "        self.local_size=local_size\n",
        "        self.percent_speedup=percent_speedup\n",
        "\n",
        "    def __len__(self):\n",
        "        'Denotes the total number of samples'\n",
        "        return len(self.percent_speedup)\n",
        "\n",
        "    def __getitem__(self, index):\n",
        "        'Generates one sample of data'\n",
        "        return self.ir1[index], self.ir2[index], self.input_size[index],self.local_size[index],self.percent_speedup[index]"
      ],
      "id": "db34e4b6",
      "execution_count": null,
      "outputs": []
    },
    {
      "cell_type": "code",
      "metadata": {
        "id": "faf13bb3"
      },
      "source": [
        "# data\n",
        "df = pd.read_parquet('/content/drive/MyDrive/Deep learning for compiler opt/dataset.pq')\n",
        "dataset = PerformanceData(torch.tensor(np.stack(df.ir1.to_list())),torch.tensor(np.stack(df.ir2.to_list())),torch.tensor(np.stack(df.globalSize.to_list())),torch.tensor(np.stack(df.localSize.to_list())),torch.tensor(np.stack(df.percent_speedup.to_list())))\n",
        "train_data, test_data = random_split(dataset, [int(len(dataset)*.8), len(dataset)-int(len(dataset)*.8)], generator=torch.Generator().manual_seed(42))\n",
        "train_data, val_data = random_split(train_data, [int(len(dataset)*.8), len(dataset)-int(len(dataset)*.8)], generator=torch.Generator().manual_seed(42))\n",
        "train_loader = DataLoader(train_data, batch_size=32,num_workers=2)\n",
        "test_loader = DataLoader(test_data, batch_size=32,num_workers=2)\n",
        "val_loader = DataLoader(val_data, batch_size=32,num_workers=2)"
      ],
      "id": "faf13bb3",
      "execution_count": null,
      "outputs": []
    },
    {
      "cell_type": "code",
      "metadata": {
        "id": "35711f63"
      },
      "source": [
        "# model\n",
        "model = Speedup(300,1,64)\n",
        "# model = model.cuda()\n",
        "\n",
        "# 1. Init ModelCheckpoint callback, monitoring 'val_loss'\n",
        "checkpoint_callback = ModelCheckpoint(monitor=\"val_loss\")\n",
        "\n",
        "# training\n",
        "trainer = pl.Trainer(\n",
        "    default_root_dir=\"/content/drive/MyDrive/Deep learning for compiler opt/\",\n",
        "    log_every_n_steps=20,   # set the logging frequency\n",
        "    gpus=-1,                # use all GPUs\n",
        "    auto_lr_find=True,\n",
        "    max_epochs=50,           # number of epochs\n",
        "    deterministic=True,     # keep it deterministic\n",
        "    callbacks=[checkpoint_callback]\n",
        "    )\n",
        "\n",
        "trainer.fit(model, train_loader, val_loader)\n",
        "checkpoint_callback.best_model_path"
      ],
      "id": "35711f63",
      "execution_count": null,
      "outputs": []
    },
    {
      "cell_type": "code",
      "metadata": {
        "colab": {
          "base_uri": "https://localhost:8080/",
          "height": 35
        },
        "id": "A7RoIHoYnFbp",
        "outputId": "c0b23d8e-f535-4e5f-9e99-847ff60a0e0f"
      },
      "source": [
        "checkpoint_callback = ModelCheckpoint(monitor=\"val_loss\")\n",
        "checkpoint_callback"
      ],
      "id": "A7RoIHoYnFbp",
      "execution_count": null,
      "outputs": [
        {
          "output_type": "execute_result",
          "data": {
            "application/vnd.google.colaboratory.intrinsic+json": {
              "type": "string"
            },
            "text/plain": [
              "''"
            ]
          },
          "metadata": {},
          "execution_count": 9
        }
      ]
    },
    {
      "cell_type": "code",
      "metadata": {
        "id": "ra24Seykm7wt"
      },
      "source": [
        "%load_ext tensorboard\n",
        "%tensorboard --logdir \"/content/drive/MyDrive/Deep learning for compiler opt/lightning_logs\""
      ],
      "id": "ra24Seykm7wt",
      "execution_count": null,
      "outputs": []
    },
    {
      "cell_type": "code",
      "metadata": {
        "id": "jy9abGHPrFlf"
      },
      "source": [
        "model = Speedup.load_from_checkpoint(\"/content/drive/MyDrive/Deep learning for compiler opt/lightning_logs/version_1/checkpoints/epoch=53-step=486269.ckpt\")"
      ],
      "id": "jy9abGHPrFlf",
      "execution_count": null,
      "outputs": []
    },
    {
      "cell_type": "code",
      "metadata": {
        "colab": {
          "base_uri": "https://localhost:8080/"
        },
        "id": "LSoXYbl4njGk",
        "outputId": "851c2907-36ac-4eea-cf09-ba8dbea8fd38"
      },
      "source": [
        "model"
      ],
      "id": "LSoXYbl4njGk",
      "execution_count": null,
      "outputs": [
        {
          "output_type": "execute_result",
          "data": {
            "text/plain": [
              "Speedup(\n",
              "  (encoder): Sequential(\n",
              "    (0): Linear(in_features=300, out_features=256, bias=True)\n",
              "    (1): LeakyReLU(negative_slope=0.1)\n",
              "    (2): Linear(in_features=256, out_features=128, bias=True)\n",
              "    (3): LeakyReLU(negative_slope=0.1)\n",
              "    (4): Linear(in_features=128, out_features=64, bias=True)\n",
              "    (5): BatchNorm1d(64, eps=1e-05, momentum=0.1, affine=True, track_running_stats=True)\n",
              "  )\n",
              "  (out): Sequential(\n",
              "    (0): Linear(in_features=65, out_features=32, bias=True)\n",
              "    (1): BatchNorm1d(32, eps=1e-05, momentum=0.1, affine=True, track_running_stats=True)\n",
              "    (2): LeakyReLU(negative_slope=0.1)\n",
              "    (3): Linear(in_features=32, out_features=1, bias=True)\n",
              "    (4): Tanh()\n",
              "  )\n",
              ")"
            ]
          },
          "metadata": {},
          "execution_count": 70
        }
      ]
    },
    {
      "cell_type": "code",
      "metadata": {
        "colab": {
          "base_uri": "https://localhost:8080/",
          "height": 49,
          "referenced_widgets": [
            "ca6dbc55e5f04c008585271903d67ed5",
            "ca448aa1da6e4f8baef429837d5877f6",
            "6b64431b4d054d2baa0b94621a7cdec7",
            "aeb7c3cbc53d4b09b965939d9199fceb",
            "41ae1808e4c548eeb1e880375cf66344",
            "2273ae3524234d80b01c65da2eacf4a9",
            "31f8dacccb184147928e09648dee36ff",
            "8342708aaada4adb8c6f45322fdd2c5f",
            "478167310f1b47a6b3fc1f61f3c18ad2",
            "59d875a0785a4c5ebe9e78ca16fd72e3",
            "b43cfb3e138844c1a5523b2003aa8ec2"
          ]
        },
        "id": "iVsULGHNVqRW",
        "outputId": "69bb99e2-ff60-40e2-ff3e-dcbd112ebcf7"
      },
      "source": [
        "r = trainer.predict(model,test_loader)"
      ],
      "id": "iVsULGHNVqRW",
      "execution_count": null,
      "outputs": [
        {
          "output_type": "display_data",
          "data": {
            "application/vnd.jupyter.widget-view+json": {
              "model_id": "ca6dbc55e5f04c008585271903d67ed5",
              "version_minor": 0,
              "version_major": 2
            },
            "text/plain": [
              "Predicting: 1474it [00:00, ?it/s]"
            ]
          },
          "metadata": {}
        }
      ]
    },
    {
      "cell_type": "code",
      "metadata": {
        "id": "fBebjVpaCe7l"
      },
      "source": [
        "def get_df(l):\n",
        "  df = pd.DataFrame(columns=['predicted','actual'])\n",
        "  for i in l:\n",
        "    er = pd.DataFrame(columns=['actual','predicted'])\n",
        "    er.actual = i[1].numpy()\n",
        "    er.predicted = i[0].view(i[0].size()[0]).numpy()\n",
        "    df = df.append(er,ignore_index=True)\n",
        "  return df"
      ],
      "id": "fBebjVpaCe7l",
      "execution_count": null,
      "outputs": []
    },
    {
      "cell_type": "code",
      "metadata": {
        "id": "jQQphqRScyOL"
      },
      "source": [
        "er_ds = get_df(r)"
      ],
      "id": "jQQphqRScyOL",
      "execution_count": null,
      "outputs": []
    },
    {
      "cell_type": "code",
      "metadata": {
        "colab": {
          "base_uri": "https://localhost:8080/",
          "height": 419
        },
        "id": "jSF2SwZk2zuw",
        "outputId": "aeee73f2-a20d-4090-cebb-5f0d1f8dbfc4"
      },
      "source": [
        "er_ds"
      ],
      "id": "jSF2SwZk2zuw",
      "execution_count": null,
      "outputs": [
        {
          "output_type": "execute_result",
          "data": {
            "text/html": [
              "<div>\n",
              "<style scoped>\n",
              "    .dataframe tbody tr th:only-of-type {\n",
              "        vertical-align: middle;\n",
              "    }\n",
              "\n",
              "    .dataframe tbody tr th {\n",
              "        vertical-align: top;\n",
              "    }\n",
              "\n",
              "    .dataframe thead th {\n",
              "        text-align: right;\n",
              "    }\n",
              "</style>\n",
              "<table border=\"1\" class=\"dataframe\">\n",
              "  <thead>\n",
              "    <tr style=\"text-align: right;\">\n",
              "      <th></th>\n",
              "      <th>predicted</th>\n",
              "      <th>actual</th>\n",
              "    </tr>\n",
              "  </thead>\n",
              "  <tbody>\n",
              "    <tr>\n",
              "      <th>0</th>\n",
              "      <td>0.042055</td>\n",
              "      <td>0.000940</td>\n",
              "    </tr>\n",
              "    <tr>\n",
              "      <th>1</th>\n",
              "      <td>-0.272076</td>\n",
              "      <td>-0.313191</td>\n",
              "    </tr>\n",
              "    <tr>\n",
              "      <th>2</th>\n",
              "      <td>-0.520379</td>\n",
              "      <td>-0.561493</td>\n",
              "    </tr>\n",
              "    <tr>\n",
              "      <th>3</th>\n",
              "      <td>-0.395834</td>\n",
              "      <td>-0.436948</td>\n",
              "    </tr>\n",
              "    <tr>\n",
              "      <th>4</th>\n",
              "      <td>0.041468</td>\n",
              "      <td>0.000354</td>\n",
              "    </tr>\n",
              "    <tr>\n",
              "      <th>...</th>\n",
              "      <td>...</td>\n",
              "      <td>...</td>\n",
              "    </tr>\n",
              "    <tr>\n",
              "      <th>72032</th>\n",
              "      <td>0.035149</td>\n",
              "      <td>-0.000401</td>\n",
              "    </tr>\n",
              "    <tr>\n",
              "      <th>72033</th>\n",
              "      <td>-0.189063</td>\n",
              "      <td>-0.224614</td>\n",
              "    </tr>\n",
              "    <tr>\n",
              "      <th>72034</th>\n",
              "      <td>-0.661427</td>\n",
              "      <td>-0.696978</td>\n",
              "    </tr>\n",
              "    <tr>\n",
              "      <th>72035</th>\n",
              "      <td>0.035719</td>\n",
              "      <td>0.000168</td>\n",
              "    </tr>\n",
              "    <tr>\n",
              "      <th>72036</th>\n",
              "      <td>0.266587</td>\n",
              "      <td>0.231036</td>\n",
              "    </tr>\n",
              "  </tbody>\n",
              "</table>\n",
              "<p>72037 rows × 2 columns</p>\n",
              "</div>"
            ],
            "text/plain": [
              "       predicted    actual\n",
              "0       0.042055  0.000940\n",
              "1      -0.272076 -0.313191\n",
              "2      -0.520379 -0.561493\n",
              "3      -0.395834 -0.436948\n",
              "4       0.041468  0.000354\n",
              "...          ...       ...\n",
              "72032   0.035149 -0.000401\n",
              "72033  -0.189063 -0.224614\n",
              "72034  -0.661427 -0.696978\n",
              "72035   0.035719  0.000168\n",
              "72036   0.266587  0.231036\n",
              "\n",
              "[72037 rows x 2 columns]"
            ]
          },
          "metadata": {},
          "execution_count": 381
        }
      ]
    },
    {
      "cell_type": "code",
      "metadata": {
        "colab": {
          "base_uri": "https://localhost:8080/"
        },
        "id": "ZBsus4KEdie9",
        "outputId": "1cad3dfd-1c11-4e87-e4c4-0f0e7ff4807f"
      },
      "source": [
        "from sklearn.metrics import mean_squared_error\n",
        "\n",
        "print(mean_squared_error(er_ds.actual, er_ds.predicted))\n",
        "print(mean_squared_error(er_ds.actual, er_ds.predicted,squared=False))"
      ],
      "id": "ZBsus4KEdie9",
      "execution_count": null,
      "outputs": [
        {
          "output_type": "stream",
          "name": "stdout",
          "text": [
            "0.052132491919954636\n",
            "0.22832540795968073\n"
          ]
        }
      ]
    },
    {
      "cell_type": "code",
      "metadata": {
        "colab": {
          "base_uri": "https://localhost:8080/"
        },
        "id": "GLliiLw-k-yC",
        "outputId": "3d1df4cb-b0aa-44f1-be42-6794f8c375e0"
      },
      "source": [
        "from sklearn.metrics import max_error\n",
        "max_error(er_ds.actual, er_ds.predicted)"
      ],
      "id": "GLliiLw-k-yC",
      "execution_count": null,
      "outputs": [
        {
          "output_type": "execute_result",
          "data": {
            "text/plain": [
              "0.6842826008796693"
            ]
          },
          "metadata": {},
          "execution_count": 385
        }
      ]
    },
    {
      "cell_type": "code",
      "metadata": {
        "colab": {
          "base_uri": "https://localhost:8080/"
        },
        "id": "s1qTiI0d5uPX",
        "outputId": "d678858c-47a5-45ed-d8db-61f4c81136da"
      },
      "source": [
        "from sklearn.metrics import r2_score\n",
        "r2_score(er_ds.actual, er_ds.predicted)"
      ],
      "id": "s1qTiI0d5uPX",
      "execution_count": null,
      "outputs": [
        {
          "output_type": "execute_result",
          "data": {
            "text/plain": [
              "0.5290109902531515"
            ]
          },
          "metadata": {},
          "execution_count": 387
        }
      ]
    },
    {
      "cell_type": "code",
      "metadata": {
        "id": "W4BmmaYj4cC8"
      },
      "source": [
        ""
      ],
      "id": "W4BmmaYj4cC8",
      "execution_count": null,
      "outputs": []
    },
    {
      "cell_type": "code",
      "metadata": {
        "id": "99mUVaKQdxvM"
      },
      "source": [
        "from sklearn.metrics import confusion_matrix\n",
        "from sklearn.metrics import accuracy_score\n",
        "from sklearn.metrics import plot_confusion_matrix\n",
        "from sklearn.metrics import average_precision_score # (y_true, y_score, *) Compute average precision (AP) from prediction scores.\n",
        "from sklearn.metrics import f1_score # (y_true, y_pred, *[, labels, …]) Compute the F1 score, also known as balanced F-score or F-measure.\n",
        "from sklearn.metrics import fbeta_score # (y_true, y_pred, *, beta[, …]) Compute the F-beta score.\n",
        "from sklearn.metrics import precision_recall_curve # (y_true, probas_pred, *) Compute precision-recall pairs for different probability thresholds.\n",
        "from sklearn.metrics import precision_recall_fscore_support # (y_true, …) Compute precision, recall, F-measure and support for each class.\n",
        "from sklearn.metrics import precision_score # (y_true, y_pred, *[, labels, …]) Compute the precision.\n",
        "from sklearn.metrics import recall_score # (y_true, y_pred, *[, labels, …]) Compute the recall.\n",
        "from matplotlib import pyplot as plt"
      ],
      "id": "99mUVaKQdxvM",
      "execution_count": null,
      "outputs": []
    },
    {
      "cell_type": "code",
      "metadata": {
        "id": "CHJs4idtkKx8"
      },
      "source": [
        "def plot_confusion_matrix(cm,\n",
        "                          target_names,\n",
        "                          title='Confusion matrix',\n",
        "                          cmap=None,\n",
        "                          normalize=True):\n",
        "    \"\"\"\n",
        "    given a sklearn confusion matrix (cm), make a nice plot\n",
        "\n",
        "    Arguments\n",
        "    ---------\n",
        "    cm:           confusion matrix from sklearn.metrics.confusion_matrix\n",
        "\n",
        "    target_names: given classification classes such as [0, 1, 2]\n",
        "                  the class names, for example: ['high', 'medium', 'low']\n",
        "\n",
        "    title:        the text to display at the top of the matrix\n",
        "\n",
        "    cmap:         the gradient of the values displayed from matplotlib.pyplot.cm\n",
        "                  see http://matplotlib.org/examples/color/colormaps_reference.html\n",
        "                  plt.get_cmap('jet') or plt.cm.Blues\n",
        "\n",
        "    normalize:    If False, plot the raw numbers\n",
        "                  If True, plot the proportions\n",
        "\n",
        "    Usage\n",
        "    -----\n",
        "    plot_confusion_matrix(cm           = cm,                  # confusion matrix created by\n",
        "                                                              # sklearn.metrics.confusion_matrix\n",
        "                          normalize    = True,                # show proportions\n",
        "                          target_names = y_labels_vals,       # list of names of the classes\n",
        "                          title        = best_estimator_name) # title of graph\n",
        "\n",
        "    Citiation\n",
        "    ---------\n",
        "    http://scikit-learn.org/stable/auto_examples/model_selection/plot_confusion_matrix.html\n",
        "\n",
        "    \"\"\"\n",
        "    import matplotlib.pyplot as plt\n",
        "    import numpy as np\n",
        "    import itertools\n",
        "\n",
        "    accuracy = np.trace(cm) / float(np.sum(cm))\n",
        "    misclass = 1 - accuracy\n",
        "\n",
        "    if cmap is None:\n",
        "        cmap = plt.get_cmap('Blues')\n",
        "\n",
        "    plt.figure(figsize=(8, 6))\n",
        "    plt.imshow(cm, interpolation='nearest', cmap=cmap)\n",
        "    plt.title(title)\n",
        "    plt.colorbar()\n",
        "\n",
        "    if target_names is not None:\n",
        "        tick_marks = np.arange(len(target_names))\n",
        "        plt.xticks(tick_marks, target_names, rotation=45)\n",
        "        plt.yticks(tick_marks, target_names)\n",
        "\n",
        "    if normalize:\n",
        "        cm = cm.astype('float') / cm.sum(axis=1)[:, np.newaxis]\n",
        "\n",
        "\n",
        "    thresh = cm.max() / 1.5 if normalize else cm.max() / 2\n",
        "    for i, j in itertools.product(range(cm.shape[0]), range(cm.shape[1])):\n",
        "        if normalize:\n",
        "            plt.text(j, i, \"{:0.4f}\".format(cm[i, j]),\n",
        "                     horizontalalignment=\"center\",\n",
        "                     color=\"white\" if cm[i, j] > thresh else \"black\")\n",
        "        else:\n",
        "            plt.text(j, i, \"{:,}\".format(cm[i, j]),\n",
        "                     horizontalalignment=\"center\",\n",
        "                     color=\"white\" if cm[i, j] > thresh else \"black\")\n",
        "\n",
        "\n",
        "    plt.tight_layout()\n",
        "    plt.ylabel('True label')\n",
        "    plt.xlabel('Predicted label\\n\\n\\n\\naccuracy={:0.4f}; misclass={:0.4f}'.format(accuracy, misclass))\n",
        "    plt.show()"
      ],
      "id": "CHJs4idtkKx8",
      "execution_count": null,
      "outputs": []
    },
    {
      "cell_type": "code",
      "metadata": {
        "id": "d1cjmpjQiFl2"
      },
      "source": [
        "import seaborn as sns"
      ],
      "id": "d1cjmpjQiFl2",
      "execution_count": null,
      "outputs": []
    },
    {
      "cell_type": "code",
      "metadata": {
        "id": "mPzbXe2geChY"
      },
      "source": [
        "y_pred = er_ds.predicted>0\n",
        "y_true = er_ds.actual>0"
      ],
      "id": "mPzbXe2geChY",
      "execution_count": null,
      "outputs": []
    },
    {
      "cell_type": "code",
      "metadata": {
        "colab": {
          "base_uri": "https://localhost:8080/",
          "height": 502
        },
        "id": "Vdr6kjv_eImJ",
        "outputId": "485fd388-22fb-4237-823b-5f5a757e20ae"
      },
      "source": [
        "cm = confusion_matrix(y_pred=y_pred,y_true = y_true)\n",
        "tn, fp, fn, tp = cm.ravel()\n",
        "plot_confusion_matrix(cm=cm, normalize= False,\n",
        "                      target_names = [0,1],\n",
        "                      title        = \"Confusion Matrix\")"
      ],
      "id": "Vdr6kjv_eImJ",
      "execution_count": null,
      "outputs": [
        {
          "output_type": "display_data",
          "data": {
            "image/png": "[encoded data removed]",
            "text/plain": [
              "<Figure size 576x432 with 2 Axes>"
            ]
          },
          "metadata": {
            "needs_background": "light"
          }
        }
      ]
    },
    {
      "cell_type": "code",
      "metadata": {
        "colab": {
          "base_uri": "https://localhost:8080/"
        },
        "id": "JRYMtfdmG3m3",
        "outputId": "4e824e3e-6f17-4f90-9e98-158c9c8a0f6e"
      },
      "source": [
        "(tn, fp, fn, tp)"
      ],
      "id": "JRYMtfdmG3m3",
      "execution_count": null,
      "outputs": [
        {
          "output_type": "execute_result",
          "data": {
            "text/plain": [
              "(13536, 22238, 0, 36263)"
            ]
          },
          "metadata": {},
          "execution_count": 411
        }
      ]
    },
    {
      "cell_type": "code",
      "metadata": {
        "colab": {
          "base_uri": "https://localhost:8080/"
        },
        "id": "mEKnNCmOfhVR",
        "outputId": "8f159462-d58e-450c-c658-de5f39a9b4cd"
      },
      "source": [
        "fp/sum((tn, fp))"
      ],
      "id": "mEKnNCmOfhVR",
      "execution_count": null,
      "outputs": [
        {
          "output_type": "execute_result",
          "data": {
            "text/plain": [
              "0.6216246435959076"
            ]
          },
          "metadata": {},
          "execution_count": 424
        }
      ]
    },
    {
      "cell_type": "code",
      "metadata": {
        "colab": {
          "base_uri": "https://localhost:8080/"
        },
        "id": "U7Q2XEznePeJ",
        "outputId": "2ce8c730-be31-4bda-a601-f92876341e0a"
      },
      "source": [
        "accuracy_score(y_pred=y_pred,y_true = y_true)"
      ],
      "id": "U7Q2XEznePeJ",
      "execution_count": null,
      "outputs": [
        {
          "output_type": "execute_result",
          "data": {
            "text/plain": [
              "0.6912975276593972"
            ]
          },
          "metadata": {},
          "execution_count": 416
        }
      ]
    },
    {
      "cell_type": "code",
      "metadata": {
        "colab": {
          "base_uri": "https://localhost:8080/"
        },
        "id": "5X_F7sjajDYL",
        "outputId": "b3c94b6b-5ad4-4309-b2f7-781aefa7ecb3"
      },
      "source": [
        "average_precision_score(y_true, y_pred)"
      ],
      "id": "5X_F7sjajDYL",
      "execution_count": null,
      "outputs": [
        {
          "output_type": "execute_result",
          "data": {
            "text/plain": [
              "0.6198697458163108"
            ]
          },
          "metadata": {},
          "execution_count": 417
        }
      ]
    },
    {
      "cell_type": "code",
      "metadata": {
        "colab": {
          "base_uri": "https://localhost:8080/"
        },
        "id": "aDvEdyfKqmVz",
        "outputId": "cdb034d5-e69a-4e88-df2e-73c6d856e911"
      },
      "source": [
        "precision_score(y_true, y_pred)"
      ],
      "id": "aDvEdyfKqmVz",
      "execution_count": null,
      "outputs": [
        {
          "output_type": "execute_result",
          "data": {
            "text/plain": [
              "0.6198697458163108"
            ]
          },
          "metadata": {},
          "execution_count": 418
        }
      ]
    },
    {
      "cell_type": "code",
      "metadata": {
        "colab": {
          "base_uri": "https://localhost:8080/"
        },
        "id": "fAtKlocZriGS",
        "outputId": "8d30433c-9fe5-4dd0-bf3d-9a38bedaea5e"
      },
      "source": [
        "recall_score(y_true, y_pred)"
      ],
      "id": "fAtKlocZriGS",
      "execution_count": null,
      "outputs": [
        {
          "output_type": "execute_result",
          "data": {
            "text/plain": [
              "1.0"
            ]
          },
          "metadata": {},
          "execution_count": 419
        }
      ]
    },
    {
      "cell_type": "code",
      "metadata": {
        "colab": {
          "base_uri": "https://localhost:8080/"
        },
        "id": "5G3ysHEYquiO",
        "outputId": "c7456518-50f2-4a40-8e6f-cd806c0a7fec"
      },
      "source": [
        "precision_recall_fscore_support(y_true,y_pred)"
      ],
      "id": "5G3ysHEYquiO",
      "execution_count": null,
      "outputs": [
        {
          "output_type": "execute_result",
          "data": {
            "text/plain": [
              "(array([1.        , 0.61986975]),\n",
              " array([0.37837536, 1.        ]),\n",
              " array([0.54901643, 0.76533283]),\n",
              " array([35774, 36263]))"
            ]
          },
          "metadata": {},
          "execution_count": 420
        }
      ]
    },
    {
      "cell_type": "code",
      "metadata": {
        "colab": {
          "base_uri": "https://localhost:8080/"
        },
        "id": "Vgc_YLQrltS5",
        "outputId": "e5dae593-447a-495f-96db-bd26310eae71"
      },
      "source": [
        "fbeta_score(y_true, y_pred,beta=0.5)"
      ],
      "id": "Vgc_YLQrltS5",
      "execution_count": null,
      "outputs": [
        {
          "output_type": "execute_result",
          "data": {
            "text/plain": [
              "0.6708736175707727"
            ]
          },
          "metadata": {},
          "execution_count": 421
        }
      ]
    },
    {
      "cell_type": "code",
      "metadata": {
        "colab": {
          "base_uri": "https://localhost:8080/"
        },
        "id": "zdnxSsztlnkh",
        "outputId": "3925c749-efc2-42c9-b1ba-8eda4c950846"
      },
      "source": [
        "f1_score(y_true, y_pred)"
      ],
      "id": "zdnxSsztlnkh",
      "execution_count": null,
      "outputs": [
        {
          "output_type": "execute_result",
          "data": {
            "text/plain": [
              "0.7653328268118694"
            ]
          },
          "metadata": {},
          "execution_count": 422
        }
      ]
    },
    {
      "cell_type": "code",
      "metadata": {
        "id": "CX9ErdaAYqky"
      },
      "source": [
        ""
      ],
      "id": "CX9ErdaAYqky",
      "execution_count": null,
      "outputs": []
    }
  ]
}